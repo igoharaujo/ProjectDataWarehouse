{
 "cells": [
  {
   "cell_type": "markdown",
   "metadata": {
    "application/vnd.databricks.v1+cell": {
     "cellMetadata": {},
     "inputWidgets": {},
     "nuid": "b1f08f98-1db8-4596-9b42-2486abc2c5b5",
     "showTitle": false,
     "tableResultSettingsMap": {},
     "title": ""
    }
   },
   "source": [
    "# 📚 Conceitos Fundamentais no Spark e Databricks\n",
    "\n",
    "## 🔍 1. Quality Checks\n",
    "### ✅ O que é?\n",
    "Quality Checks são **validações aplicadas aos dados para garantir sua integridade e qualidade**. Isso é feito antes de usar os dados para análise ou gravação em um banco de dados para evitar inconsistências.\n",
    "\n",
    "### 📌 Por que é importante?\n",
    "- Garante que os dados estejam **corretos**, **consistentes** e **completos**.\n",
    "- Evita erros em análises e processos posteriores.\n",
    "\n",
    "---\n",
    "\n",
    "## 🔀 2. Deduplicate\n",
    "### ✅ O que é?\n",
    "Deduplicate é o processo de **remover registros duplicados de um DataFrame ou tabela**. É útil para evitar redundâncias e garantir que cada linha seja única.\n",
    "\n",
    "### 📌 Por que é importante?\n",
    "- Mantém a **qualidade e integridade dos dados**.\n",
    "- Evita contagens erradas e cálculos incorretos.\n",
    "\n",
    "---\n",
    "\n",
    "## 📅 3. Window Function\n",
    "### ✅ O que é?\n",
    "As Window Functions permitem realizar **cálculos em grupos de linhas relacionadas**, mantendo cada linha original sem agrupar como o `groupBy()` faria.\n",
    "\n",
    "### 📌 Por que é importante?\n",
    "- Permite cálculos complexos como **ranking, médias móveis e agregações parciais**.\n",
    "- Facilita operações que exigem contexto sobre outras linhas sem perder os dados originais.\n",
    "\n",
    "---\n",
    "\n",
    "## 📝 4. Apply Schema\n",
    "### ✅ O que é?\n",
    "O **Apply Schema** é o processo de definir explicitamente um esquema (`schema`) para um DataFrame, especificando **nomes de colunas e tipos de dados**.\n",
    "\n",
    "### 📌 Por que é importante?\n",
    "- **Garante consistência** no formato dos dados.\n",
    "- Evita erros de inferência automática do Spark que podem ocorrer com dados sujos ou mal formatados.\n",
    "\n",
    "---\n",
    "\n",
    "## 📂 5. Operações: MERGE, APPEND e OVERWRITE\n",
    "\n",
    "### 🔄 MERGE (Upsert)\n",
    "#### ✅ O que é?\n",
    "Combina dados de uma fonte com uma tabela existente, **atualizando registros correspondentes e inserindo novos registros**.\n",
    "\n",
    "#### 📌 Uso Ideal:\n",
    "- Dados mestres que precisam ser atualizados periodicamente.\n",
    "\n",
    "---\n",
    "\n",
    "### 📥 APPEND\n",
    "#### ✅ O que é?\n",
    "Adiciona **novos registros** a uma tabela sem modificar os existentes.\n",
    "\n",
    "#### 📌 Uso Ideal:\n",
    "- Adicionar dados incrementais (logs, eventos, transações, etc.).\n",
    "\n",
    "---\n",
    "\n",
    "### ♻️ OVERWRITE\n",
    "#### ✅ O que é?\n",
    "**Substitui completamente** os dados de uma tabela, apagando o conteúdo anterior.\n",
    "\n",
    "#### 📌 Uso Ideal:\n",
    "- Atualizações completas ou substituição de dados desatualizados.\n",
    "\n",
    "---\n",
    "\n",
    "## 📌 Resumo das Operações\n",
    "\n",
    "| Operação  | Descrição                                                      | Uso Ideal                                    |\n",
    "|-----------|----------------------------------------------------------------|--------------------------------------------|\n",
    "| **MERGE** | Atualiza registros existentes e insere novos dados.           | Dados mestres que precisam de atualizações. |\n",
    "| **APPEND**| Insere novos registros sem modificar os existentes.           | Dados incrementais (logs, eventos, etc.).  |\n",
    "| **OVERWRITE**| Substitui completamente os dados de uma tabela.            | Relatórios completos ou recriação de tabelas. |\n"
   ]
  },
  {
   "cell_type": "code",
   "execution_count": 0,
   "metadata": {
    "application/vnd.databricks.v1+cell": {
     "cellMetadata": {
      "byteLimit": 2048000,
      "rowLimit": 10000
     },
     "inputWidgets": {},
     "nuid": "0343d283-fccd-44cc-b500-ed53d179eaf6",
     "showTitle": true,
     "tableResultSettingsMap": {},
     "title": "Bibliotecas"
    }
   },
   "outputs": [],
   "source": [
    "from pyspark.sql import functions as F\n",
    "from pyspark.sql import DataFrame, window\n",
    "from delta.tables import DeltaTable\n",
    "from pyspark.sql.types import (StructType, StructField,\n",
    "        IntegerType, StringType, DoubleType, DecimalType, TimestampType, ShortType)"
   ]
  },
  {
   "cell_type": "code",
   "execution_count": 0,
   "metadata": {
    "application/vnd.databricks.v1+cell": {
     "cellMetadata": {
      "byteLimit": 2048000,
      "rowLimit": 10000
     },
     "inputWidgets": {},
     "nuid": "590efc18-8d2d-43fc-bb07-c6140a620cc9",
     "showTitle": true,
     "tableResultSettingsMap": {},
     "title": "Validação"
    }
   },
   "outputs": [],
   "source": [
    "def _validate_schema(df: DataFrame, expected_schema: StructType) -> bool:\n",
    "    \"\"\"\n",
    "    Valida se o schema do DataFrame corresponde ao schema esperado.\n",
    "\n",
    "    Parâmetros:\n",
    "        df (DataFrame): O DataFrame a ser validado.\n",
    "        expected_schema (StructType): O schema esperado.\n",
    "\n",
    "    Retorna:\n",
    "        bool: True se o schema corresponder, False caso contrário.\n",
    "    \"\"\"\n",
    "    actual_schema = df.schema\n",
    "\n",
    "    # Verifica se o número de campos corresponde\n",
    "    if len(expected_schema.fields) != len(actual_schema.fields):\n",
    "        return False\n",
    "\n",
    "    # Verifica cada campo e tipo de dado\n",
    "    for i, field in enumerate(actual_schema.fields):\n",
    "        expected_field = expected_schema.fields[i]\n",
    "        if field.name != expected_field.name or not isinstance(field.dataType, type(expected_field.dataType)):\n",
    "            return False\n",
    "\n",
    "    return True\n"
   ]
  },
  {
   "cell_type": "code",
   "execution_count": 0,
   "metadata": {
    "application/vnd.databricks.v1+cell": {
     "cellMetadata": {
      "byteLimit": 2048000,
      "rowLimit": 10000
     },
     "inputWidgets": {},
     "nuid": "80054808-111b-42e5-bb80-e3085bf6f432",
     "showTitle": true,
     "tableResultSettingsMap": {},
     "title": "Upsert"
    }
   },
   "outputs": [],
   "source": [
    "def _upsert_silver_table(transformed_df: DataFrame, target_table: str, primary_keys: list, not_matched_by_source_action: str = None, not_matched_by_source_condition: str = None) -> None:\n",
    "    \"\"\"\n",
    "    Realiza o upsert (update e insert) na tabela Delta da camada prata,\n",
    "    suportando a evolução do esquema e construindo dinamicamente a condição de merge.\n",
    "\n",
    "    Parâmetros:\n",
    "        transformed_df (DataFrame): DataFrame contendo os dados transformados para inserção na camada prata.\n",
    "        target_table (str): Nome da tabela de destino.\n",
    "        primary_keys (list): Lista de chaves primárias para o merge.\n",
    "        not_matched_by_source_action (str, opcional): Ação a ser tomada quando uma linha da tabela de destino não tiver correspondência na tabela de origem. Pode ser \"DELETE\" ou \"UPDATE\".\n",
    "        not_matched_by_source_condition (str, opcional): Condição adicional para aplicar a ação definida em not_matched_by_source_action. -- use t.column = s.column -- t -> target / s -> source\n",
    "    \"\"\"\n",
    "    spark.sql(\"USE CATALOG hive_metastore\")\n",
    "    spark.sql(\"USE DATABASE adventure_works_silver\")\n",
    "\n",
    "    if not spark.catalog.tableExists(target_table):\n",
    "        transformed_df.write.format(\"delta\").saveAsTable(target_table)\n",
    "        print(f\"Tabela {target_table} criada.\")\n",
    "        return\n",
    "\n",
    "    \n",
    "    merge_condition = \" AND \".join([f\"s.{key} = t.{key}\" for key in primary_keys])\n",
    "\n",
    "    delta_table = DeltaTable.forName(spark, target_table) # DeltaTable.forName -> Carrega uma tabela Delta existente\n",
    "\n",
    "    merge_builder = delta_table.alias(\"t\").merge(\n",
    "        transformed_df.alias(\"s\"),\n",
    "        merge_condition\n",
    "    )\n",
    "\n",
    "    merge_builder = merge_builder.whenMatchedUpdateAll()\n",
    "\n",
    "    merge_builder = merge_builder.whenNotMatchedInsertAll() # -> Adicionar a cláusula WHEN NOT MATCHED (inserir novos registros)\n",
    "\n",
    "  # Se o parâmetro not_matched_by_source_action for \"DELETE\", adicionar a lógica para deletar linhas\n",
    "    if not_matched_by_source_action and not_matched_by_source_action.upper() == \"DELETE\":\n",
    "        # Obter as chaves das linhas na tabela de destino que não têm correspondência na tabela de origem\n",
    "        unmatched_rows = delta_table.toDF().alias(\"t\").join(\n",
    "            transformed_df.alias(\"s\"),\n",
    "            on=[F.col(f\"t.{key}\") == F.col(f\"s.{key}\") for key in primary_keys],\n",
    "            how=\"left_anti\"\n",
    "        )\n",
    "\n",
    "        # Aplicar a condição adicional de exclusão, se fornecida\n",
    "        if not_matched_by_source_condition:\n",
    "            unmatched_rows = unmatched_rows.filter(not_matched_by_source_condition)\n",
    "\n",
    "        # Executar a exclusão das linhas não correspondentes\n",
    "        delta_table.alias(\"t\").merge(\n",
    "            unmatched_rows.alias(\"s\"),\n",
    "            merge_condition\n",
    "        ).whenMatchedDelete().execute()\n",
    "\n",
    "    # Executar o merge\n",
    "    merge_builder.execute()\n",
    "    \n",
    "    print(\"Upsert executado com sucesso.\")"
   ]
  }
 ],
 "metadata": {
  "application/vnd.databricks.v1+notebook": {
   "computePreferences": null,
   "dashboards": [],
   "environmentMetadata": {
    "base_environment": "",
    "environment_version": "2"
   },
   "inputWidgetPreferences": null,
   "language": "python",
   "notebookMetadata": {
    "pythonIndentUnit": 4
   },
   "notebookName": "DeltaFunctions",
   "widgets": {}
  },
  "language_info": {
   "name": "python"
  }
 },
 "nbformat": 4,
 "nbformat_minor": 0
}
