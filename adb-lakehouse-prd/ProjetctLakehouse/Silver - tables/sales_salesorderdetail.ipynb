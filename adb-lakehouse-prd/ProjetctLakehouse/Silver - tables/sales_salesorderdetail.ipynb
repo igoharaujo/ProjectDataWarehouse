{
 "cells": [
  {
   "cell_type": "markdown",
   "metadata": {
    "application/vnd.databricks.v1+cell": {
     "cellMetadata": {},
     "inputWidgets": {},
     "nuid": "40d71ad5-4505-417c-b8a8-365bf1404227",
     "showTitle": false,
     "tableResultSettingsMap": {},
     "title": ""
    }
   },
   "source": [
    "## Transformação camada prata: sales_salesorderdetail"
   ]
  },
  {
   "cell_type": "code",
   "execution_count": 0,
   "metadata": {
    "application/vnd.databricks.v1+cell": {
     "cellMetadata": {
      "byteLimit": 2048000,
      "rowLimit": 10000
     },
     "collapsed": true,
     "inputWidgets": {},
     "nuid": "2fafa59f-78b0-4c02-a09b-5549ff43f2cc",
     "showTitle": true,
     "tableResultSettingsMap": {},
     "title": "Functions"
    }
   },
   "outputs": [],
   "source": [
    "%run ../Config/DeltaFunctions"
   ]
  },
  {
   "cell_type": "code",
   "execution_count": 0,
   "metadata": {
    "application/vnd.databricks.v1+cell": {
     "cellMetadata": {
      "byteLimit": 2048000,
      "rowLimit": 10000
     },
     "collapsed": true,
     "inputWidgets": {},
     "nuid": "71af81a2-1c18-4d67-88d0-5187c6ad0dd6",
     "showTitle": true,
     "tableResultSettingsMap": {},
     "title": "Log"
    }
   },
   "outputs": [],
   "source": [
    "%run ../Config/LogProcessamento"
   ]
  },
  {
   "cell_type": "code",
   "execution_count": 0,
   "metadata": {
    "application/vnd.databricks.v1+cell": {
     "cellMetadata": {
      "byteLimit": 2048000,
      "rowLimit": 10000
     },
     "inputWidgets": {},
     "nuid": "63744a8c-5af8-4b5a-8a1f-c91c5d870e31",
     "showTitle": true,
     "tableResultSettingsMap": {},
     "title": "Bibliotecas"
    }
   },
   "outputs": [],
   "source": [
    "from pyspark.sql import DataFrame, Window\n",
    "from pyspark.sql import functions as F\n",
    "from pyspark.sql.types import (\n",
    "    IntegerType, StringType, TimestampType, StructType, StructField, BooleanType\n",
    ")"
   ]
  },
  {
   "cell_type": "code",
   "execution_count": 0,
   "metadata": {
    "application/vnd.databricks.v1+cell": {
     "cellMetadata": {
      "byteLimit": 2048000,
      "rowLimit": 10000
     },
     "inputWidgets": {},
     "nuid": "1229144b-6195-47a2-af81-6900295a4610",
     "showTitle": true,
     "tableResultSettingsMap": {},
     "title": "Origem/Destino"
    }
   },
   "outputs": [],
   "source": [
    "# Habilitar a evolução automática de esquemas\n",
    "spark.sql(\"SET spark.databricks.delta.schema.autoMerge.enabled = true\")\n",
    "spark.sql('USE CATALOG hive_metastore')\n",
    "\n",
    "# Informações da Tabela Fonte\n",
    "source_table = \"sales_salesorderdetail\"\n",
    "source_database = \"adventure_works_bronze\"\n",
    "bronze_source_table = spark.read.table(f\"{source_database}.{source_table}\")\n",
    "\n",
    "# Informações da Tabela Destino (target)\n",
    "target_table_name = \"sales_salesorderdetail\"\n",
    "target_database = \"adventure_works_silver\"\n",
    "target_table = f\"{target_database}.{target_table_name}\"\n",
    "\n",
    "primary_keys = [\"CurrencyCode\"]"
   ]
  },
  {
   "cell_type": "code",
   "execution_count": 0,
   "metadata": {
    "application/vnd.databricks.v1+cell": {
     "cellMetadata": {
      "byteLimit": 2048000,
      "rowLimit": 10000
     },
     "inputWidgets": {},
     "nuid": "535c59ea-d956-4d42-8598-2f1d7cb29ee5",
     "showTitle": true,
     "tableResultSettingsMap": {},
     "title": "Schema"
    }
   },
   "outputs": [],
   "source": [
    "expected_schema = StructType([\n",
    "    StructField(\"CustomerID\", IntegerType(), False),             # int IDENTITY(1,1) NOT NULL\n",
    "    StructField(\"PersonID\", IntegerType(), True),                # int NULL\n",
    "    StructField(\"StoreID\", IntegerType(), True),                 # int NULL\n",
    "    StructField(\"TerritoryID\", IntegerType(), True),             # int NULL\n",
    "    StructField(\"AccountNumber\", StringType(), True),            # Calculado: 'AW' + LeadingZeros(CustomerID)\n",
    "    StructField(\"rowguid\", StringType(), False),                 # uniqueidentifier NOT NULL\n",
    "    StructField(\"ModifiedDate\", TimestampType(), False)          # datetime NOT NULL\n",
    "])"
   ]
  },
  {
   "cell_type": "code",
   "execution_count": 0,
   "metadata": {
    "application/vnd.databricks.v1+cell": {
     "cellMetadata": {
      "byteLimit": 2048000,
      "rowLimit": 10000
     },
     "inputWidgets": {},
     "nuid": "e1b79798-7026-4689-8891-aaa51a9553c8",
     "showTitle": true,
     "tableResultSettingsMap": {},
     "title": "Transformação"
    }
   },
   "outputs": [],
   "source": [
    "def transform_Customer(Customer: DataFrame) -> DataFrame:\n",
    "    '''\n",
    "    Transformação da tabela: Customer\n",
    "\n",
    "    Parâmetros:\n",
    "        Customer (DataFrame): DataFrame contendo os dados da tabela Customer\n",
    "\n",
    "    Retorna:\n",
    "        DataFrame: O DataFrame resultante após a transformação e deduplicação.\n",
    "    '''\n",
    "\n",
    "    # Calcula o AccountNumber baseado no CustomerID\n",
    "    Customer = Customer.withColumn(\n",
    "        'AccountNumber',\n",
    "        F.when(F.col('AccountNumber').isNull(), F.concat(F.lit('AW'), F.format_string('%09d', F.col('CustomerID')))).otherwise(F.col('AccountNumber'))\n",
    "    )\n",
    "\n",
    "    # Define valores padrão para campos que podem ser nulos\n",
    "    Customer = Customer.withColumn(\n",
    "        'rowguid',\n",
    "        F.when(F.col('rowguid').isNull(), F.expr('uuid()')).otherwise(F.col('rowguid'))\n",
    "    )\n",
    "\n",
    "    Customer = Customer.withColumn(\n",
    "        'ModifiedDate',\n",
    "        F.when(F.col('ModifiedDate').isNull(), F.current_timestamp()).otherwise(F.col('ModifiedDate'))\n",
    "    )\n",
    "\n",
    "    # Define a função de janela para deduplicar com base nas chaves primárias\n",
    "    window_spec = Window.partitionBy('CustomerID').orderBy(F.col('ModifiedDate').desc())\n",
    "    Customer = Customer.withColumn('row_num', F.row_number().over(window_spec))\n",
    "\n",
    "    # Filtra para manter apenas a primeira linha em cada partição (sem duplicatas)\n",
    "    Customer = Customer.filter(F.col('row_num') == 1).drop('row_num')\n",
    "\n",
    "    # Seleção final com CAST explícito dos tipos de dados\n",
    "    Customer = Customer.select(\n",
    "        F.col('CustomerID').cast(IntegerType()).alias('CustomerID'),\n",
    "        F.col('PersonID').cast(IntegerType()).alias('PersonID'),\n",
    "        F.col('StoreID').cast(IntegerType()).alias('StoreID'),\n",
    "        F.col('TerritoryID').cast(IntegerType()).alias('TerritoryID'),\n",
    "        F.col('AccountNumber').cast(StringType()).alias('AccountNumber'),\n",
    "        F.col('rowguid').cast(StringType()).alias('rowguid'),\n",
    "        F.col('ModifiedDate').cast(TimestampType()).alias('ModifiedDate')\n",
    "    )\n",
    "\n",
    "    return Customer"
   ]
  },
  {
   "cell_type": "markdown",
   "metadata": {
    "application/vnd.databricks.v1+cell": {
     "cellMetadata": {},
     "inputWidgets": {},
     "nuid": "62e93420-f196-4efb-9681-bc4b11c375bd",
     "showTitle": false,
     "tableResultSettingsMap": {},
     "title": ""
    }
   },
   "source": [
    "## Aplicar Transformação"
   ]
  },
  {
   "cell_type": "code",
   "execution_count": 0,
   "metadata": {
    "application/vnd.databricks.v1+cell": {
     "cellMetadata": {
      "byteLimit": 2048000,
      "rowLimit": 10000
     },
     "inputWidgets": {},
     "nuid": "6200aca7-10fb-424e-b70d-b0a5f368cb49",
     "showTitle": false,
     "tableResultSettingsMap": {},
     "title": ""
    }
   },
   "outputs": [],
   "source": [
    "# Estrutura do log para registrar informações sobre o processo\n",
    "log_data = {\n",
    "    \"log_tabela\": source_table,\n",
    "    \"log_camada\": \"Silver\",\n",
    "    \"log_origem\": \"adventure_works_bronze\",\n",
    "    \"log_destino\": \"adventure_works_silver\",\n",
    "}\n",
    "\n",
    "# Registra o início do processo\n",
    "addlog(**log_data, log_status='Início', atualizacao=0)\n",
    "\n",
    "try:\n",
    "    # Realiza a transformação dos dados\n",
    "    transformed_df = transform_Customer(Customer = bronze_source_table)\n",
    "    \n",
    "    # Verifica rapidamente o número de linhas e o schema do DataFrame\n",
    "    row_count = transformed_df.count()\n",
    "    transformed_df.printSchema()\n",
    "\n",
    "    # Validação do schema\n",
    "    is_schema_valid = _validate_schema(transformed_df, expected_schema)\n",
    "    if is_schema_valid:\n",
    "        addlog(**log_data, log_status='Sucesso', atualizacao=1)\n",
    "        print(\"O schema do DataFrame está correto.\")\n",
    "    else:\n",
    "        raise ValueError(\"Schema validation failed.\")\n",
    "    \n",
    "except Exception as e:\n",
    "    # Registra erro caso ocorra uma exceção\n",
    "    addlog(**log_data, log_status='Falha', atualizacao=1)\n",
    "    print(f\"Erro ao processar a tabela: {str(e)}\")\n",
    "    raise  \n",
    "\n",
    "# Se o schema for válido, realiza o upsert\n",
    "_upsert_silver_table(transformed_df, target_table, primary_keys, not_matched_by_source_action=\"DELETE\")\n"
   ]
  }
 ],
 "metadata": {
  "application/vnd.databricks.v1+notebook": {
   "computePreferences": null,
   "dashboards": [],
   "environmentMetadata": {
    "base_environment": "",
    "environment_version": "2"
   },
   "inputWidgetPreferences": null,
   "language": "python",
   "notebookMetadata": {
    "mostRecentlyExecutedCommandWithImplicitDF": {
     "commandId": 4282395861390242,
     "dataframes": [
      "_sqldf"
     ]
    },
    "pythonIndentUnit": 4
   },
   "notebookName": "sales_salesorderdetail",
   "widgets": {}
  },
  "language_info": {
   "name": "python"
  }
 },
 "nbformat": 4,
 "nbformat_minor": 0
}
