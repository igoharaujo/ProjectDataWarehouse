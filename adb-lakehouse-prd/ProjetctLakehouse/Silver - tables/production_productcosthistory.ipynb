{
 "cells": [
  {
   "cell_type": "markdown",
   "metadata": {
    "application/vnd.databricks.v1+cell": {
     "cellMetadata": {},
     "inputWidgets": {},
     "nuid": "40d71ad5-4505-417c-b8a8-365bf1404227",
     "showTitle": false,
     "tableResultSettingsMap": {},
     "title": ""
    }
   },
   "source": [
    "## Transformação camada prata: productcategory"
   ]
  },
  {
   "cell_type": "code",
   "execution_count": 0,
   "metadata": {
    "application/vnd.databricks.v1+cell": {
     "cellMetadata": {
      "byteLimit": 2048000,
      "rowLimit": 10000
     },
     "collapsed": true,
     "inputWidgets": {},
     "nuid": "2fafa59f-78b0-4c02-a09b-5549ff43f2cc",
     "showTitle": true,
     "tableResultSettingsMap": {},
     "title": "Functions"
    }
   },
   "outputs": [],
   "source": [
    "%run ../Config/DeltaFunctions"
   ]
  },
  {
   "cell_type": "code",
   "execution_count": 0,
   "metadata": {
    "application/vnd.databricks.v1+cell": {
     "cellMetadata": {
      "byteLimit": 2048000,
      "rowLimit": 10000
     },
     "collapsed": true,
     "inputWidgets": {},
     "nuid": "71af81a2-1c18-4d67-88d0-5187c6ad0dd6",
     "showTitle": true,
     "tableResultSettingsMap": {},
     "title": "Log"
    }
   },
   "outputs": [],
   "source": [
    "%run ../Config/LogProcessamento"
   ]
  },
  {
   "cell_type": "code",
   "execution_count": 0,
   "metadata": {
    "application/vnd.databricks.v1+cell": {
     "cellMetadata": {
      "byteLimit": 2048000,
      "rowLimit": 10000
     },
     "inputWidgets": {},
     "nuid": "63744a8c-5af8-4b5a-8a1f-c91c5d870e31",
     "showTitle": true,
     "tableResultSettingsMap": {},
     "title": "Bibliotecas"
    }
   },
   "outputs": [],
   "source": [
    "from pyspark.sql import DataFrame, Window\n",
    "from pyspark.sql import functions as F\n",
    "from pyspark.sql.types import (\n",
    "    IntegerType, StringType, TimestampType, StructType, StructField, BooleanType\n",
    ")"
   ]
  },
  {
   "cell_type": "code",
   "execution_count": 0,
   "metadata": {
    "application/vnd.databricks.v1+cell": {
     "cellMetadata": {
      "byteLimit": 2048000,
      "rowLimit": 10000
     },
     "inputWidgets": {},
     "nuid": "1229144b-6195-47a2-af81-6900295a4610",
     "showTitle": true,
     "tableResultSettingsMap": {},
     "title": "Origem/Destino"
    }
   },
   "outputs": [],
   "source": [
    "# Habilitar a evolução automática de esquemas\n",
    "spark.sql(\"SET spark.databricks.delta.schema.autoMerge.enabled = true\")\n",
    "spark.sql('USE CATALOG hive_metastore')\n",
    "\n",
    "# Informações da Tabela Fonte\n",
    "source_table = \"production_productcosthistory\"\n",
    "source_database = \"adventure_works_bronze\"\n",
    "bronze_source_table = spark.read.table(f\"{source_database}.{source_table}\")\n",
    "\n",
    "# Informações da Tabela Destino (target)\n",
    "target_table_name = \"production_productcosthistory\"\n",
    "target_database = \"adventure_works_silver\"\n",
    "target_table = f\"{target_database}.{target_table_name}\"\n",
    "\n",
    "primary_keys = [\"ProductID\", \"StartDate\"]"
   ]
  },
  {
   "cell_type": "code",
   "execution_count": 0,
   "metadata": {
    "application/vnd.databricks.v1+cell": {
     "cellMetadata": {
      "byteLimit": 2048000,
      "rowLimit": 10000
     },
     "inputWidgets": {},
     "nuid": "535c59ea-d956-4d42-8598-2f1d7cb29ee5",
     "showTitle": true,
     "tableResultSettingsMap": {},
     "title": "Schema"
    }
   },
   "outputs": [],
   "source": [
    "expected_schema = StructType([\n",
    "    StructField(\"ProductID\", IntegerType(), False),         # int NOT NULL\n",
    "    StructField(\"StartDate\", TimestampType(), False),       # datetime NOT NULL\n",
    "    StructField(\"EndDate\", TimestampType(), True),          # datetime NULL\n",
    "    StructField(\"StandardCost\", DecimalType(19, 4), False), # money NOT NULL\n",
    "    StructField(\"ModifiedDate\", TimestampType(), False)     # datetime NOT NULL\n",
    "])\n"
   ]
  },
  {
   "cell_type": "code",
   "execution_count": 0,
   "metadata": {
    "application/vnd.databricks.v1+cell": {
     "cellMetadata": {
      "byteLimit": 2048000,
      "rowLimit": 10000
     },
     "inputWidgets": {},
     "nuid": "e1b79798-7026-4689-8891-aaa51a9553c8",
     "showTitle": true,
     "tableResultSettingsMap": {},
     "title": "Transformação"
    }
   },
   "outputs": [],
   "source": [
    "def transform_production_ProductCostHistory(ProductCostHistory: DataFrame) -> DataFrame:\n",
    "    '''\n",
    "    Transformação da tabela: ProductCostHistory\n",
    "    Parâmetros:\n",
    "        ProductCostHistory (DataFrame): DataFrame contendo os dados da tabela ProductCostHistory\n",
    "\n",
    "    Retorna:\n",
    "        DataFrame: O DataFrame resultante após a transformação e deduplicação.\n",
    "    '''\n",
    "     \n",
    "    # Define valores padrão para campos que podem ser nulos\n",
    "    # Aplicar regras de integridade e preencher campos nulos\n",
    "    ProductCostHistory = ProductCostHistory.withColumn(\n",
    "        'EndDate', F.when(F.col('EndDate') < F.col('StartDate'), None).otherwise(F.col('EndDate'))\n",
    "    )\n",
    "\n",
    "    # Filtrar linhas com StandardCost >= 0\n",
    "    ProductCostHistory = ProductCostHistory.filter(F.col('StandardCost') >= 0.00)\n",
    "\n",
    "    # Gerar valores de ModifiedDate para linhas onde não existe\n",
    "    ProductCostHistory = ProductCostHistory.withColumn(\n",
    "        'ModifiedDate', \n",
    "        F.when(F.col('ModifiedDate').isNull(), F.current_timestamp()).otherwise(F.col('ModifiedDate'))\n",
    "    )\n",
    "\n",
    "    # Deduplicação utilizando uma função de janela\n",
    "    window_spec = Window.partitionBy('ProductID', 'StartDate').orderBy(F.col('ModifiedDate').desc())\n",
    "    ProductCostHistory = ProductCostHistory.withColumn('row_num', F.row_number().over(window_spec))\n",
    "\n",
    "    # Filtrar para manter apenas a linha mais recente\n",
    "    ProductCostHistory = ProductCostHistory.filter(F.col('row_num') == 1).drop('row_num')\n",
    "\n",
    "    # Seleção final com CAST explícito dos tipos de dados\n",
    "    ProductCostHistory = ProductCostHistory.select(\n",
    "        F.col('ProductID').cast(IntegerType()).alias('ProductID'),\n",
    "        F.col('StartDate').cast(TimestampType()).alias('StartDate'),\n",
    "        F.col('EndDate').cast(TimestampType()).alias('EndDate'),\n",
    "        F.col('StandardCost').cast(DecimalType(19, 4)).alias('StandardCost'),\n",
    "        F.col('ModifiedDate').cast(TimestampType()).alias('ModifiedDate')\n",
    "    )\n",
    "\n",
    "    return ProductCostHistory"
   ]
  },
  {
   "cell_type": "markdown",
   "metadata": {
    "application/vnd.databricks.v1+cell": {
     "cellMetadata": {},
     "inputWidgets": {},
     "nuid": "62e93420-f196-4efb-9681-bc4b11c375bd",
     "showTitle": false,
     "tableResultSettingsMap": {},
     "title": ""
    }
   },
   "source": [
    "## Aplicar Transformação"
   ]
  },
  {
   "cell_type": "code",
   "execution_count": 0,
   "metadata": {
    "application/vnd.databricks.v1+cell": {
     "cellMetadata": {
      "byteLimit": 2048000,
      "rowLimit": 10000
     },
     "inputWidgets": {},
     "nuid": "6200aca7-10fb-424e-b70d-b0a5f368cb49",
     "showTitle": false,
     "tableResultSettingsMap": {},
     "title": ""
    }
   },
   "outputs": [],
   "source": [
    "# Estrutura do log para registrar informações sobre o processo\n",
    "log_data = {\n",
    "    \"log_tabela\": source_table,\n",
    "    \"log_camada\": \"Silver\",\n",
    "    \"log_origem\": \"adventure_works_bronze\",\n",
    "    \"log_destino\": \"adventure_works_silver\",\n",
    "}\n",
    "\n",
    "# Registra o início do processo\n",
    "addlog(**log_data, log_status='Início', atualizacao=0)\n",
    "\n",
    "try:\n",
    "    # Realiza a transformação dos dados\n",
    "    transformed_df = transform_production_ProductCostHistory(ProductCostHistory=bronze_source_table)\n",
    "\n",
    "    # Verifica rapidamente o número de linhas e o schema do DataFrame\n",
    "    row_count = transformed_df.count()\n",
    "    transformed_df.printSchema()\n",
    "\n",
    "    # Validação do schema\n",
    "    is_schema_valid = _validate_schema(transformed_df, expected_schema)\n",
    "    if is_schema_valid:\n",
    "        addlog(**log_data, log_status='Sucesso', atualizacao=1)\n",
    "        print(\"O schema do DataFrame está correto.\")\n",
    "    else:\n",
    "        raise ValueError(\"Schema validation failed.\")\n",
    "    \n",
    "except Exception as e:\n",
    "    # Registra erro caso ocorra uma exceção\n",
    "    addlog(**log_data, log_status='Falha', atualizacao=1)\n",
    "    print(f\"Erro ao processar a tabela: {str(e)}\")\n",
    "    raise  \n",
    "\n",
    "# Se o schema for válido, realiza o upsert\n",
    "_upsert_silver_table(transformed_df, target_table, primary_keys, not_matched_by_source_action=\"DELETE\")\n"
   ]
  }
 ],
 "metadata": {
  "application/vnd.databricks.v1+notebook": {
   "computePreferences": null,
   "dashboards": [],
   "environmentMetadata": {
    "base_environment": "",
    "environment_version": "2"
   },
   "inputWidgetPreferences": null,
   "language": "python",
   "notebookMetadata": {
    "mostRecentlyExecutedCommandWithImplicitDF": {
     "commandId": 1818458200642571,
     "dataframes": [
      "_sqldf"
     ]
    },
    "pythonIndentUnit": 4
   },
   "notebookName": "production_productcosthistory",
   "widgets": {}
  },
  "language_info": {
   "name": "python"
  }
 },
 "nbformat": 4,
 "nbformat_minor": 0
}
