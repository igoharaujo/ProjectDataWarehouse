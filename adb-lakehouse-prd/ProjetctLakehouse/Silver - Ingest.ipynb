{
 "cells": [
  {
   "cell_type": "markdown",
   "metadata": {
    "application/vnd.databricks.v1+cell": {
     "cellMetadata": {
      "byteLimit": 2048000,
      "rowLimit": 10000
     },
     "inputWidgets": {},
     "nuid": "bca45c2c-e837-4328-af2e-42fae6a3cdfe",
     "showTitle": false,
     "tableResultSettingsMap": {},
     "title": ""
    }
   },
   "source": [
    "# Silver Ingest\n",
    "\n",
    "### Esse notebook gerencia os notebook da camada silver "
   ]
  },
  {
   "cell_type": "markdown",
   "metadata": {
    "application/vnd.databricks.v1+cell": {
     "cellMetadata": {
      "byteLimit": 2048000,
      "rowLimit": 10000
     },
     "inputWidgets": {},
     "nuid": "9fad8aea-97ac-4df6-8b08-a8931c211992",
     "showTitle": false,
     "tableResultSettingsMap": {},
     "title": ""
    }
   },
   "source": [
    "# 🧑‍💻 Explicação das Funções e Conceitos Utilizados no Código\n",
    "\n",
    "## 🔧 **1. Thread (Threading)**\n",
    "\n",
    "### ✅ O que é uma Thread?\n",
    "- **Thread** é uma unidade de execução dentro de um processo. Em sistemas modernos, múltiplas threads podem ser executadas de forma simultânea (paralela) em um único processo. Isso é útil para tarefas que podem ser feitas de forma independente, como downloads ou cálculos pesados.\n",
    "  \n",
    "- No Python, a **threading** permite que você crie e gerencie threads para executar tarefas simultaneamente, **ainda que Python seja predominantemente single-threaded** devido ao Global Interpreter Lock (GIL). No entanto, para operações de I/O (como chamadas de rede ou leitura de arquivos), threads podem ser muito úteis.\n",
    "\n",
    "## 🔧 **2. ThreadPoolExecutor**\n",
    "\n",
    "### ✅ O que é o `ThreadPoolExecutor`?\n",
    "- O **`ThreadPoolExecutor`** é uma classe da biblioteca `concurrent.futures` que gerencia um **pool de threads**, permitindo que você execute múltiplas tarefas de forma paralela sem ter que gerenciar manualmente a criação e o controle das threads.\n",
    "  \n",
    "- Ele é **gerenciado automaticamente** para que você possa se concentrar na lógica do seu código, sem se preocupar com detalhes de baixo nível, como o número máximo de threads ou a sincronização entre elas.\n",
    "\n"
   ]
  },
  {
   "cell_type": "code",
   "execution_count": 0,
   "metadata": {
    "application/vnd.databricks.v1+cell": {
     "cellMetadata": {
      "byteLimit": 2048000,
      "rowLimit": 10000
     },
     "inputWidgets": {},
     "nuid": "76eddda3-b24f-4676-9e76-05fc7c9f6b2f",
     "showTitle": true,
     "tableResultSettingsMap": {},
     "title": "Parâmetros"
    }
   },
   "outputs": [],
   "source": [
    "from concurrent.futures import ThreadPoolExecutor, as_completed\n",
    "\n",
    "dict_tables = {\n",
    "    \"person_address\": {\n",
    "        \"active\": 1,\n",
    "        \"notebook_path\": \"Silver - tables/person_address\"\n",
    "    },\n",
    "    \"person_countryregion\": {\n",
    "        \"active\": 1,\n",
    "        \"notebook_path\": \"Silver - tables/person_countryregion\"\n",
    "    },\n",
    "    \"person_emailaddress\": {\n",
    "        \"active\": 1,\n",
    "        \"notebook_path\": \"Silver - tables/person_emailaddress\"\n",
    "    },\n",
    "    \"person_person\": {\n",
    "        \"active\": 1,\n",
    "        \"notebook_path\": \"Silver - tables/person_person\"\n",
    "    },\n",
    "    \"person_personphone\": {\n",
    "        \"active\": 1,\n",
    "        \"notebook_path\": \"Silver - tables/person_personphone\"\n",
    "    },\n",
    "    \"person_stateprovince\": {\n",
    "        \"active\": 1,\n",
    "        \"notebook_path\": \"Silver - tables/person_stateprovince\"\n",
    "    },\n",
    "    \"production_productcosthistory\": {\n",
    "        \"active\": 1,\n",
    "        \"notebook_path\": \"Silver - tables/production_productcosthistory\"\n",
    "    },\n",
    "    \"production_product\": {\n",
    "        \"active\": 1,\n",
    "        \"notebook_path\": \"Silver - tables/production_product\"\n",
    "    },\n",
    "    \"production_productdescription\": {\n",
    "        \"active\": 1,\n",
    "        \"notebook_path\": \"Silver - tables/production_productdescription\"\n",
    "    },\n",
    "    \"production_productmodel\": {\n",
    "        \"active\": 1,\n",
    "        \"notebook_path\": \"Silver - tables/production_productmodel\"\n",
    "    },\n",
    "    \"production_productsubcategory\": {\n",
    "        \"active\": 1,\n",
    "        \"notebook_path\": \"Silver - tables/production_productsubcategory\"\n",
    "    },\n",
    "    \"production_productcategory\": {\n",
    "        \"active\": 1,\n",
    "        \"notebook_path\": \"Silver - tables/production_productcategory\"\n",
    "    },\n",
    "    \"sales_currency\": {\n",
    "        \"active\": 1,\n",
    "        \"notebook_path\": \"Silver - tables/sales_currency\"\n",
    "    },\n",
    "    \"sales_customer\": {\n",
    "        \"active\": 1,\n",
    "        \"notebook_path\": \"Silver - tables/sales_customer\"\n",
    "    },\n",
    "    \"sales_salesorderdetail\": {\n",
    "        \"active\": 1,\n",
    "        \"notebook_path\": \"Silver - tables/sales_salesorderdetail\"\n",
    "    },\n",
    "    \"sales_salesorderheader\": {\n",
    "        \"active\": 1,\n",
    "        \"notebook_path\": \"Silver - tables/sales_salesorderheader\"\n",
    "    },\n",
    "     \"sales_salesorderheadersalesreason\": {\n",
    "        \"active\": 1,\n",
    "        \"notebook_path\": \"Silver - tables/sales_salesorderheadersalesreason\"\n",
    "    },\n",
    "    \"sales_salesreason\": {\n",
    "        \"active\": 1,\n",
    "        \"notebook_path\": \"Silver - tables/sales_salesreason\"\n",
    "    },\n",
    "    \"sales_salesterritory\": {\n",
    "        \"active\": 1,\n",
    "        \"notebook_path\": \"Silver - tables/sales_salesterritory\"\n",
    "    },\n",
    "    \"sales_specialoffer\": {\n",
    "        \"active\": 1,\n",
    "        \"notebook_path\": \"Silver - tables/sales_specialoffer\"\n",
    "    }\n",
    "}\n",
    "\n"
   ]
  },
  {
   "cell_type": "code",
   "execution_count": 0,
   "metadata": {
    "application/vnd.databricks.v1+cell": {
     "cellMetadata": {
      "byteLimit": 2048000,
      "rowLimit": 10000
     },
     "inputWidgets": {},
     "nuid": "227cb29b-4483-47e9-b61f-a73a1af5ea8e",
     "showTitle": true,
     "tableResultSettingsMap": {},
     "title": "Executor notebook"
    }
   },
   "outputs": [],
   "source": [
    "def run_notebook(config):\n",
    "    \"\"\"Função para executar o notebook e capturar o resultado.\"\"\"\n",
    "    try:\n",
    "        result = dbutils.notebook.run(config['notebook_path'], 0)  # timeout = 0 indica espera indefinida\n",
    "        return result\n",
    "    except Exception as e:\n",
    "        print(f\"Erro ao executar o notebook {config['notebook_path']}: {e}\")\n",
    "        return None\n"
   ]
  },
  {
   "cell_type": "code",
   "execution_count": 0,
   "metadata": {
    "application/vnd.databricks.v1+cell": {
     "cellMetadata": {
      "byteLimit": 2048000,
      "rowLimit": 10000
     },
     "inputWidgets": {},
     "nuid": "503e2982-98fc-415b-935b-168fe9c2f633",
     "showTitle": true,
     "tableResultSettingsMap": {},
     "title": "Execução paralela"
    }
   },
   "outputs": [],
   "source": [
    "# Configura o número de threads (ajuste conforme necessário)\n",
    "max_workers = 10\n",
    "\n",
    "# Executor para gerenciar os threads\n",
    "with ThreadPoolExecutor(max_workers=max_workers) as executor:\n",
    "    # Submeter notebooks ativos para execução paralela\n",
    "    futures = {executor.submit(run_notebook, config): table for table, config in dict_tables.items() if config['active'] == 1}\n",
    "\n",
    "    # Coleta os resultados conforme cada tarefa é concluída\n",
    "    for future in as_completed(futures):\n",
    "        table = futures[future]\n",
    "        try:\n",
    "            result = future.result()\n",
    "            print(f\"Notebook para {table} processado com sucesso.\")\n",
    "        except Exception as e:\n",
    "            print(f\"Erro ao processar {table}: {e}\")\n",
    "\n"
   ]
  },
  {
   "cell_type": "code",
   "execution_count": 0,
   "metadata": {
    "application/vnd.databricks.v1+cell": {
     "cellMetadata": {
      "byteLimit": 2048000,
      "rowLimit": 10000
     },
     "inputWidgets": {},
     "nuid": "57775ea2-ceea-4310-8afa-b08bfb42db48",
     "showTitle": false,
     "tableResultSettingsMap": {},
     "title": ""
    }
   },
   "outputs": [],
   "source": [
    "\n",
    "\n",
    " # Executando cada notebook se estiver ativo\n",
    "for table, config in dict_tables.items():\n",
    "     if config['active'] == 1:\n",
    "         print(f\"Executing notebook for {table} at {config['notebook_path']}\")\n",
    "         result = dbutils.notebook.run(config['notebook_path'], 0)  # timeout = 0 indica espera indefinida\n",
    "         print(f\"Result for {table}: {result}\")"
   ]
  }
 ],
 "metadata": {
  "application/vnd.databricks.v1+notebook": {
   "computePreferences": null,
   "dashboards": [],
   "environmentMetadata": {
    "base_environment": "",
    "environment_version": "2"
   },
   "inputWidgetPreferences": null,
   "language": "python",
   "notebookMetadata": {
    "mostRecentlyExecutedCommandWithImplicitDF": {
     "commandId": 7713236289727573,
     "dataframes": [
      "_sqldf"
     ]
    },
    "pythonIndentUnit": 4
   },
   "notebookName": "Silver - Ingest",
   "widgets": {}
  },
  "language_info": {
   "name": "python"
  }
 },
 "nbformat": 4,
 "nbformat_minor": 0
}
