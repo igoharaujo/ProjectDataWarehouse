{
 "cells": [
  {
   "cell_type": "markdown",
   "metadata": {
    "application/vnd.databricks.v1+cell": {
     "cellMetadata": {},
     "inputWidgets": {},
     "nuid": "40d71ad5-4505-417c-b8a8-365bf1404227",
     "showTitle": false,
     "tableResultSettingsMap": {},
     "title": ""
    }
   },
   "source": [
    "## Transformação camada prata: person_emailaddress"
   ]
  },
  {
   "cell_type": "code",
   "execution_count": 0,
   "metadata": {
    "application/vnd.databricks.v1+cell": {
     "cellMetadata": {
      "byteLimit": 2048000,
      "rowLimit": 10000
     },
     "collapsed": true,
     "inputWidgets": {},
     "nuid": "2fafa59f-78b0-4c02-a09b-5549ff43f2cc",
     "showTitle": true,
     "tableResultSettingsMap": {},
     "title": "Functions"
    }
   },
   "outputs": [],
   "source": [
    "%run ../Config/DeltaFunctions"
   ]
  },
  {
   "cell_type": "code",
   "execution_count": 0,
   "metadata": {
    "application/vnd.databricks.v1+cell": {
     "cellMetadata": {
      "byteLimit": 2048000,
      "rowLimit": 10000
     },
     "collapsed": true,
     "inputWidgets": {},
     "nuid": "71af81a2-1c18-4d67-88d0-5187c6ad0dd6",
     "showTitle": true,
     "tableResultSettingsMap": {},
     "title": "Log"
    }
   },
   "outputs": [],
   "source": [
    "%run ../Config/LogProcessamento"
   ]
  },
  {
   "cell_type": "code",
   "execution_count": 0,
   "metadata": {
    "application/vnd.databricks.v1+cell": {
     "cellMetadata": {
      "byteLimit": 2048000,
      "rowLimit": 10000
     },
     "inputWidgets": {},
     "nuid": "63744a8c-5af8-4b5a-8a1f-c91c5d870e31",
     "showTitle": true,
     "tableResultSettingsMap": {},
     "title": "Bibliotecas"
    }
   },
   "outputs": [],
   "source": [
    "from pyspark.sql import DataFrame, Window\n",
    "from pyspark.sql import functions as F\n",
    "from pyspark.sql.types import (\n",
    "    IntegerType, StringType, TimestampType, StructType, StructField\n",
    ")"
   ]
  },
  {
   "cell_type": "code",
   "execution_count": 0,
   "metadata": {
    "application/vnd.databricks.v1+cell": {
     "cellMetadata": {
      "byteLimit": 2048000,
      "rowLimit": 10000
     },
     "inputWidgets": {},
     "nuid": "1229144b-6195-47a2-af81-6900295a4610",
     "showTitle": true,
     "tableResultSettingsMap": {},
     "title": "Origem/Destino"
    }
   },
   "outputs": [],
   "source": [
    "# Habilitar a evolução automática de esquemas\n",
    "spark.sql(\"SET spark.databricks.delta.schema.autoMerge.enabled = true\")\n",
    "spark.sql('USE CATALOG hive_metastore')\n",
    "\n",
    "# Informações da Tabela Fonte\n",
    "source_table = \"person_emailaddress\"\n",
    "source_database = \"adventure_works_bronze\"\n",
    "bronze_source_table = spark.read.table(f\"{source_database}.{source_table}\")\n",
    "\n",
    "# Informações da Tabela Destino (target)\n",
    "target_table_name = \"person_emailaddress\"\n",
    "target_database = \"adventure_works_silver\"\n",
    "target_table = f\"{target_database}.{target_table_name}\"\n",
    "\n",
    "primary_keys = \"BusinessEntityID\", \"EmailAddressID\""
   ]
  },
  {
   "cell_type": "code",
   "execution_count": 0,
   "metadata": {
    "application/vnd.databricks.v1+cell": {
     "cellMetadata": {
      "byteLimit": 2048000,
      "rowLimit": 10000
     },
     "inputWidgets": {},
     "nuid": "535c59ea-d956-4d42-8598-2f1d7cb29ee5",
     "showTitle": true,
     "tableResultSettingsMap": {},
     "title": "Schema"
    }
   },
   "outputs": [],
   "source": [
    "expected_schema = StructType([\n",
    "    StructField(\"BusinessEntityID\", IntegerType(), False),      # int NOT NULL\n",
    "    StructField(\"EmailAddressID\", IntegerType(), False),        # int IDENTITY(1,1) NOT NULL\n",
    "    StructField(\"EmailAddress\", StringType(), True),            # nvarchar(50) NULL\n",
    "    StructField(\"rowguid\", StringType(), False),                # uniqueidentifier NOT NULL\n",
    "    StructField(\"ModifiedDate\", TimestampType(), False)         # datetime NOT NULL\n",
    "])\n"
   ]
  },
  {
   "cell_type": "code",
   "execution_count": 0,
   "metadata": {
    "application/vnd.databricks.v1+cell": {
     "cellMetadata": {
      "byteLimit": 2048000,
      "rowLimit": 10000
     },
     "inputWidgets": {},
     "nuid": "e1b79798-7026-4689-8891-aaa51a9553c8",
     "showTitle": true,
     "tableResultSettingsMap": {},
     "title": "Transformação"
    }
   },
   "outputs": [],
   "source": [
    "\n",
    "def transform_Person_emailaddress(emailaddress: DataFrame) -> DataFrame:\n",
    "    '''\n",
    "    Transformação da tabela: emailaddress\n",
    "\n",
    "    Parâmetros:\n",
    "        CountryRegion (DataFrame): DataFrame contendo os dados da tabela emailaddress\n",
    "\n",
    "    Retorna:\n",
    "        DataFrame: O DataFrame resultante após a transformação e deduplicação.\n",
    "    '''\n",
    "    emailaddress = emailaddress.withColumn(\n",
    "        'rowguid',\n",
    "        F.when(F.col('rowguid').isNull(), F.expr('uuid()')).otherwise(F.col('rowguid'))\n",
    "    )\n",
    "\n",
    "    emailaddress = emailaddress.withColumn(\n",
    "        'ModifiedDate',\n",
    "        F.when(F.col('ModifiedDate').isNull(), F.current_timestamp()).otherwise(F.col('ModifiedDate'))\n",
    "    )\n",
    "    \n",
    "\n",
    "    window_spec = Window.partitionBy('BusinessEntityID','EmailAddressID').orderBy(F.col('ModifiedDate'))\n",
    "    emailaddress = emailaddress.withColumn('row_num', F.row_number().over(window_spec))\n",
    "\n",
    "    emailaddress = emailaddress.filter(F.col('row_num')==1).drop('row_num')\n",
    "\n",
    "    # Seleção final com CAST explícito dos tipos de dados\n",
    "    emailaddress = emailaddress.select(\n",
    "        F.col('BusinessEntityID').cast(IntegerType()).alias('BusinessEntityID'),\n",
    "        F.col('EmailAddressID').cast(IntegerType()).alias('EmailAddressID'),\n",
    "        F.col('EmailAddress').cast(StringType()).alias('EmailAddress'),\n",
    "        F.col('rowguid').cast(StringType()).alias('rowguid'),\n",
    "        F.col('ModifiedDate').cast(TimestampType()).alias('ModifiedDate')\n",
    "    )\n",
    "\n",
    "    return emailaddress\n",
    "\n",
    "    "
   ]
  },
  {
   "cell_type": "markdown",
   "metadata": {
    "application/vnd.databricks.v1+cell": {
     "cellMetadata": {},
     "inputWidgets": {},
     "nuid": "62e93420-f196-4efb-9681-bc4b11c375bd",
     "showTitle": false,
     "tableResultSettingsMap": {},
     "title": ""
    }
   },
   "source": [
    "## Aplicar Transformação"
   ]
  },
  {
   "cell_type": "code",
   "execution_count": 0,
   "metadata": {
    "application/vnd.databricks.v1+cell": {
     "cellMetadata": {
      "byteLimit": 2048000,
      "rowLimit": 10000
     },
     "inputWidgets": {},
     "nuid": "6200aca7-10fb-424e-b70d-b0a5f368cb49",
     "showTitle": false,
     "tableResultSettingsMap": {},
     "title": ""
    }
   },
   "outputs": [],
   "source": [
    "# Estrutura do log para registrar informações sobre o processo\n",
    "log_data = {\n",
    "    \"log_tabela\": source_table,\n",
    "    \"log_camada\": \"Silver\",\n",
    "    \"log_origem\": \"adventure_works_bronze\",\n",
    "    \"log_destino\": \"adventure_works_silver\",\n",
    "}\n",
    "\n",
    "# Registra o início do processo\n",
    "addlog(**log_data, log_status='Início', atualizacao=0)\n",
    "\n",
    "try:\n",
    "    # Realiza a transformação dos dados\n",
    "    transformed_df = transform_Person_emailaddress(emailaddress=bronze_source_table)\n",
    "\n",
    "    # Verifica rapidamente o número de linhas e o schema do DataFrame\n",
    "    row_count = transformed_df.count()\n",
    "    transformed_df.printSchema()\n",
    "\n",
    "    # Validação do schema\n",
    "    is_schema_valid = _validate_schema(transformed_df, expected_schema)\n",
    "    if is_schema_valid:\n",
    "        addlog(**log_data, log_status='Sucesso', atualizacao=1)\n",
    "        print(\"O schema do DataFrame está correto.\")\n",
    "    else:\n",
    "        raise ValueError(\"Schema validation failed.\")\n",
    "    \n",
    "except Exception as e:\n",
    "    # Registra erro caso ocorra uma exceção\n",
    "    addlog(**log_data, log_status='Falha', atualizacao=1)\n",
    "    print(f\"Erro ao processar a tabela: {str(e)}\")\n",
    "    raise  \n",
    "\n",
    "# Se o schema for válido, realiza o upsert\n",
    "_upsert_silver_table(transformed_df, target_table, primary_keys, not_matched_by_source_action=\"DELETE\")\n"
   ]
  }
 ],
 "metadata": {
  "application/vnd.databricks.v1+notebook": {
   "computePreferences": null,
   "dashboards": [],
   "environmentMetadata": {
    "base_environment": "",
    "environment_version": "2"
   },
   "inputWidgetPreferences": null,
   "language": "python",
   "notebookMetadata": {
    "mostRecentlyExecutedCommandWithImplicitDF": {
     "commandId": 1386373781793286,
     "dataframes": [
      "_sqldf"
     ]
    },
    "pythonIndentUnit": 4
   },
   "notebookName": "person_emailaddress",
   "widgets": {}
  },
  "language_info": {
   "name": "python"
  }
 },
 "nbformat": 4,
 "nbformat_minor": 0
}
