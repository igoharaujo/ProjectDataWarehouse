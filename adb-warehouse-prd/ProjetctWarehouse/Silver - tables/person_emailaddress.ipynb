{
 "cells": [
  {
   "cell_type": "markdown",
   "metadata": {
    "application/vnd.databricks.v1+cell": {
     "cellMetadata": {
      "byteLimit": 2048000,
      "rowLimit": 10000
     },
     "inputWidgets": {},
     "nuid": "11eb5b33-ffde-4bda-bf99-b0cc1239872c",
     "showTitle": false,
     "tableResultSettingsMap": {},
     "title": ""
    }
   },
   "source": [
    "## Transformação camada prata: CountryRegion"
   ]
  },
  {
   "cell_type": "code",
   "execution_count": 0,
   "metadata": {
    "application/vnd.databricks.v1+cell": {
     "cellMetadata": {
      "byteLimit": 2048000,
      "rowLimit": 10000
     },
     "collapsed": true,
     "inputWidgets": {},
     "nuid": "5b409f7a-d07f-48fa-b8cd-d5c86fa4aaf7",
     "showTitle": false,
     "tableResultSettingsMap": {},
     "title": ""
    }
   },
   "outputs": [],
   "source": [
    "%run ../Config/DeltaFunctions"
   ]
  },
  {
   "cell_type": "code",
   "execution_count": 0,
   "metadata": {
    "application/vnd.databricks.v1+cell": {
     "cellMetadata": {
      "byteLimit": 2048000,
      "rowLimit": 10000
     },
     "inputWidgets": {},
     "nuid": "5c7ab769-e599-479c-aa55-b92c17b2f679",
     "showTitle": false,
     "tableResultSettingsMap": {},
     "title": ""
    }
   },
   "outputs": [],
   "source": [
    "%run ../Config/LogProcessamento "
   ]
  },
  {
   "cell_type": "code",
   "execution_count": 0,
   "metadata": {
    "application/vnd.databricks.v1+cell": {
     "cellMetadata": {
      "byteLimit": 2048000,
      "rowLimit": 10000
     },
     "inputWidgets": {},
     "nuid": "b3de45ed-8ba1-46a0-94e4-a5041065f594",
     "showTitle": false,
     "tableResultSettingsMap": {},
     "title": ""
    }
   },
   "outputs": [],
   "source": [
    "from pyspark.sql.types import StructType, StructField, StringType, IntegerType, TimestampType\n",
    "from pyspark.sql import functions as F\n",
    "from pyspark.sql import DataFrame, Window"
   ]
  },
  {
   "cell_type": "code",
   "execution_count": 0,
   "metadata": {
    "application/vnd.databricks.v1+cell": {
     "cellMetadata": {
      "byteLimit": 2048000,
      "rowLimit": 10000
     },
     "inputWidgets": {},
     "nuid": "94054669-8c4b-4f87-9d19-0b91336206a9",
     "showTitle": false,
     "tableResultSettingsMap": {},
     "title": ""
    }
   },
   "outputs": [],
   "source": [
    "# Habilitar a evolução automática de esquemas\n",
    "spark.sql(\"SET spark.databricks.delta.schema.autoMerge.enabled = true\")\n",
    "\n",
    "\n",
    "# Informações da Tabela Fonte\n",
    "source_table = \"person_emailaddress\"\n",
    "source_database = \"adventure_works_bronze\"\n",
    "bronze_source_table = spark.read.table(f\"{source_database}.{source_table}\")\n",
    "\n",
    "# Informações da Tabela Destino (target)\n",
    "target_table_name = \"person_emailaddress\"\n",
    "target_database = \"adventure_works_silver\"\n",
    "target_table = f\"{target_database}.{target_table_name}\"\n",
    "\n",
    "primary_keys = [\"EmailAddressID\"]"
   ]
  },
  {
   "cell_type": "code",
   "execution_count": 0,
   "metadata": {
    "application/vnd.databricks.v1+cell": {
     "cellMetadata": {
      "byteLimit": 2048000,
      "rowLimit": 10000
     },
     "inputWidgets": {},
     "nuid": "d6ee6153-7bd5-47ba-bf39-d4dceeaeeb3b",
     "showTitle": false,
     "tableResultSettingsMap": {},
     "title": ""
    }
   },
   "outputs": [],
   "source": [
    "expected_schema = StructType([\n",
    "    StructField(\"BusinessEntityID\", IntegerType(), False),      # int NOT NULL\n",
    "    StructField(\"EmailAddressID\", IntegerType(), False),        # int IDENTITY(1,1) NOT NULL\n",
    "    StructField(\"EmailAddress\", StringType(), True),            # nvarchar(50) NULL\n",
    "    StructField(\"rowguid\", StringType(), False),                # uniqueidentifier NOT NULL\n",
    "    StructField(\"ModifiedDate\", TimestampType(), False)         # datetime NOT NULL\n",
    "])\n"
   ]
  },
  {
   "cell_type": "code",
   "execution_count": 0,
   "metadata": {
    "application/vnd.databricks.v1+cell": {
     "cellMetadata": {
      "byteLimit": 2048000,
      "rowLimit": 10000
     },
     "inputWidgets": {},
     "nuid": "64783224-70c4-4d20-9864-7a7b85ef4f4f",
     "showTitle": false,
     "tableResultSettingsMap": {},
     "title": ""
    }
   },
   "outputs": [],
   "source": [
    "def transform_Person_EmailAddress(EmailAddress: DataFrame) -> DataFrame:\n",
    "    '''\n",
    "    Transformação da tabela: Person_EmailAddress\n",
    "\n",
    "    Parâmetros:\n",
    "        EmailAddress (DataFrame): DataFrame contendo os dados da tabela Person_EmailAddress\n",
    "\n",
    "    Retorna:\n",
    "        DataFrame: O DataFrame resultante após a transformação e deduplicação.\n",
    "    '''\n",
    "    \n",
    "    EmailAddress = EmailAddress.withColumn(\n",
    "        'rowguid',\n",
    "        F.when(F.col('rowguid').isNull(), F.expr('uuid()')).otherwise(F.col('rowguid'))\n",
    "    )\n",
    "    \n",
    "    EmailAddress = EmailAddress.withColumn(\n",
    "        'ModifiedDate',\n",
    "        F.when(F.col('ModifiedDate').isNull(), F.current_timestamp()).otherwise(F.col('ModifiedDate'))\n",
    "    )\n",
    "    \n",
    "    # Define a função de janela para deduplicar com base nas chaves primárias\n",
    "    window_spec = Window.partitionBy('BusinessEntityID', 'EmailAddressID').orderBy(F.col('ModifiedDate').desc())\n",
    "    EmailAddress = EmailAddress.withColumn('row_num', F.row_number().over(window_spec))\n",
    "\n",
    "    # Filtra para manter apenas a primeira linha em cada partição (sem duplicatas)\n",
    "    EmailAddress = EmailAddress.filter(F.col('row_num') == 1).drop('row_num')\n",
    "\n",
    "    # Seleção final com CAST explícito dos tipos de dados\n",
    "    EmailAddress = EmailAddress.select(\n",
    "        F.col('BusinessEntityID').cast(IntegerType()).alias('BusinessEntityID'),\n",
    "        F.col('EmailAddressID').cast(IntegerType()).alias('EmailAddressID'),\n",
    "        F.col('EmailAddress').cast(StringType()).alias('EmailAddress'),\n",
    "        F.col('rowguid').cast(StringType()).alias('rowguid'),\n",
    "        F.col('ModifiedDate').cast(TimestampType()).alias('ModifiedDate')\n",
    "    )\n",
    "\n",
    "    return EmailAddress\n"
   ]
  },
  {
   "cell_type": "code",
   "execution_count": 0,
   "metadata": {
    "application/vnd.databricks.v1+cell": {
     "cellMetadata": {
      "byteLimit": 2048000,
      "rowLimit": 10000
     },
     "inputWidgets": {},
     "nuid": "5feef8d7-cd16-49ad-902f-12ebac4c0a4d",
     "showTitle": false,
     "tableResultSettingsMap": {},
     "title": ""
    }
   },
   "outputs": [],
   "source": [
    "# Estrutura do log para registrar informações sobre o processo\n",
    "log_data = {\n",
    "    \"log_tabela\": source_table,\n",
    "    \"log_camada\": \"Silver\",\n",
    "    \"log_origem\": \"adventure_works_bronze\",\n",
    "    \"log_destino\": \"adventure_works_silver\",\n",
    "}\n",
    "\n",
    "# Registra o início do processo\n",
    "addlog(**log_data, log_status='Início', atualizacao=0)\n",
    "\n",
    "try:\n",
    "    # Realiza a transformação dos dados\n",
    "    transformed_df = transform_Person_EmailAddress(EmailAddress=bronze_source_table)\n",
    "\n",
    "    # Verifica rapidamente o número de linhas e o schema do DataFrame\n",
    "    row_count = transformed_df.count()\n",
    "    transformed_df.printSchema()\n",
    "\n",
    "    # Validação do schema\n",
    "    is_schema_valid = _validate_schema(transformed_df, expected_schema)\n",
    "    if is_schema_valid:\n",
    "        addlog(**log_data, log_status='Sucesso', atualizacao=1)\n",
    "        print(\"O schema do DataFrame está correto.\")\n",
    "    else:\n",
    "        raise ValueError(\"Schema validation failed.\")\n",
    "    \n",
    "except Exception as e:\n",
    "    # Registra erro caso ocorra uma exceção\n",
    "    addlog(**log_data, log_status='Falha', atualizacao=1)\n",
    "    print(f\"Erro ao processar a tabela: {str(e)}\")\n",
    "    raise  \n",
    "\n",
    "# Se o schema for válido, realiza o upsert\n",
    "_upsert_silver_table(transformed_df, target_table, primary_keys, not_matched_by_source_action=\"DELETE\")\n"
   ]
  }
 ],
 "metadata": {
  "application/vnd.databricks.v1+notebook": {
   "computePreferences": null,
   "dashboards": [],
   "environmentMetadata": {
    "base_environment": "",
    "environment_version": "2"
   },
   "inputWidgetPreferences": null,
   "language": "python",
   "notebookMetadata": {
    "mostRecentlyExecutedCommandWithImplicitDF": {
     "commandId": 7414963360114607,
     "dataframes": [
      "_sqldf"
     ]
    },
    "pythonIndentUnit": 4
   },
   "notebookName": "person_emailaddress",
   "widgets": {}
  },
  "language_info": {
   "name": "python"
  }
 },
 "nbformat": 4,
 "nbformat_minor": 0
}
