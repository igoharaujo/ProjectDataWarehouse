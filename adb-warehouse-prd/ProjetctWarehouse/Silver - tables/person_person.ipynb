{
 "cells": [
  {
   "cell_type": "markdown",
   "metadata": {
    "application/vnd.databricks.v1+cell": {
     "cellMetadata": {
      "byteLimit": 2048000,
      "rowLimit": 10000
     },
     "inputWidgets": {},
     "nuid": "11eb5b33-ffde-4bda-bf99-b0cc1239872c",
     "showTitle": false,
     "tableResultSettingsMap": {},
     "title": ""
    }
   },
   "source": [
    "## Transformação camada prata: CountryRegion"
   ]
  },
  {
   "cell_type": "code",
   "execution_count": 0,
   "metadata": {
    "application/vnd.databricks.v1+cell": {
     "cellMetadata": {
      "byteLimit": 2048000,
      "rowLimit": 10000
     },
     "collapsed": true,
     "inputWidgets": {},
     "nuid": "5b409f7a-d07f-48fa-b8cd-d5c86fa4aaf7",
     "showTitle": false,
     "tableResultSettingsMap": {},
     "title": ""
    }
   },
   "outputs": [],
   "source": [
    "%run ../Config/DeltaFunctions"
   ]
  },
  {
   "cell_type": "code",
   "execution_count": 0,
   "metadata": {
    "application/vnd.databricks.v1+cell": {
     "cellMetadata": {
      "byteLimit": 2048000,
      "rowLimit": 10000
     },
     "inputWidgets": {},
     "nuid": "5c7ab769-e599-479c-aa55-b92c17b2f679",
     "showTitle": false,
     "tableResultSettingsMap": {},
     "title": ""
    }
   },
   "outputs": [],
   "source": [
    "%run ../Config/LogProcessamento "
   ]
  },
  {
   "cell_type": "code",
   "execution_count": 0,
   "metadata": {
    "application/vnd.databricks.v1+cell": {
     "cellMetadata": {
      "byteLimit": 2048000,
      "rowLimit": 10000
     },
     "inputWidgets": {},
     "nuid": "b3de45ed-8ba1-46a0-94e4-a5041065f594",
     "showTitle": false,
     "tableResultSettingsMap": {},
     "title": ""
    }
   },
   "outputs": [],
   "source": [
    "from pyspark.sql.types import StructType, StructField, StringType, IntegerType, TimestampType\n",
    "from pyspark.sql import functions as F\n",
    "from pyspark.sql import DataFrame, Window"
   ]
  },
  {
   "cell_type": "code",
   "execution_count": 0,
   "metadata": {
    "application/vnd.databricks.v1+cell": {
     "cellMetadata": {
      "byteLimit": 2048000,
      "rowLimit": 10000
     },
     "inputWidgets": {},
     "nuid": "94054669-8c4b-4f87-9d19-0b91336206a9",
     "showTitle": false,
     "tableResultSettingsMap": {},
     "title": ""
    }
   },
   "outputs": [],
   "source": [
    "# Habilitar a evolução automática de esquemas\n",
    "spark.sql(\"SET spark.databricks.delta.schema.autoMerge.enabled = true\")\n",
    "\n",
    "\n",
    "# Informações da Tabela Fonte\n",
    "source_table =  \"person_person\"\n",
    "source_database = \"adventure_works_bronze\"\n",
    "bronze_source_table = spark.read.table(f\"{source_database}.{source_table}\")\n",
    "\n",
    "# Informações da Tabela Destino (target)\n",
    "target_table_name =  \"person_person\"\n",
    "target_database = \"adventure_works_silver\"\n",
    "target_table = f\"{target_database}.{target_table_name}\"\n",
    "\n",
    "primary_keys = [\"EmailAddressID\"]"
   ]
  },
  {
   "cell_type": "code",
   "execution_count": 0,
   "metadata": {
    "application/vnd.databricks.v1+cell": {
     "cellMetadata": {},
     "inputWidgets": {},
     "nuid": "557efd7f-0434-4990-ab80-6f8ee75f7fe4",
     "showTitle": false,
     "tableResultSettingsMap": {},
     "title": ""
    }
   },
   "outputs": [],
   "source": [
    "expected_schema = StructType([\n",
    "    StructField(\"BusinessEntityID\", IntegerType(), False),                # int NOT NULL\n",
    "    StructField(\"PersonType\", StringType(), False),                       # nchar(2) NOT NULL\n",
    "    StructField(\"NameStyle\", IntegerType(), False),                       # dbo.NameStyle NOT NULL (Assumed IntegerType)\n",
    "    StructField(\"Title\", StringType(), True),                             # nvarchar(8) NULL\n",
    "    StructField(\"FirstName\", StringType(), False),                        # dbo.Name NOT NULL\n",
    "    StructField(\"MiddleName\", StringType(), True),                        # dbo.Name NULL\n",
    "    StructField(\"LastName\", StringType(), False),                         # dbo.Name NOT NULL\n",
    "    StructField(\"Suffix\", StringType(), True),                            # nvarchar(10) NULL\n",
    "    StructField(\"EmailPromotion\", IntegerType(), False),                  # int NOT NULL\n",
    "    StructField(\"AdditionalContactInfo\", StringType(), True),             # xml NULL\n",
    "    StructField(\"Demographics\", StringType(), True),                      # xml NULL\n",
    "    StructField(\"rowguid\", StringType(), False),                          # uniqueidentifier NOT NULL\n",
    "    StructField(\"ModifiedDate\", TimestampType(), False)                   # datetime NOT NULL\n",
    "])\n"
   ]
  },
  {
   "cell_type": "code",
   "execution_count": 0,
   "metadata": {
    "application/vnd.databricks.v1+cell": {
     "cellMetadata": {
      "byteLimit": 2048000,
      "rowLimit": 10000
     },
     "inputWidgets": {},
     "nuid": "d9576d62-1f24-403d-b03e-5653fec83fd2",
     "showTitle": false,
     "tableResultSettingsMap": {},
     "title": ""
    }
   },
   "outputs": [],
   "source": [
    "def transform_Person(Person: DataFrame) -> DataFrame:\n",
    "    '''\n",
    "    Transformação da tabela: Person\n",
    "\n",
    "    Parâmetros:\n",
    "        Person (DataFrame): DataFrame contendo os dados da tabela Person\n",
    "\n",
    "    Retorna:\n",
    "        DataFrame: O DataFrame resultante após a transformação e deduplicação.\n",
    "    '''\n",
    "\n",
    "    person = person.withColumn(\n",
    "        'rowguid',\n",
    "        F.when(F.col('rowguid').isNull(), F.expr('uuid()')).otherwise(F.col('rowguid'))\n",
    "    )\n",
    "    person = person.withColumn(\n",
    "        'ModifiedDate',\n",
    "        F.when(F.col('ModifiedDate').isNull(), current_timestemp()).otherwise(F.col('ModifiedDate'))\n",
    "    )\n",
    "\n",
    "    window_spec = windonw.partitionrBy('person_person','BusinessEntityID').orderBy(F.col('ModifiedDate').desc())\n",
    "    Person = Person.withColumn('row_number', F.row_number().over(window_spec))\n",
    "    Person = Person.filter(F.col('row_number') == 1).drop(F.col('row_number'))\n",
    "\n",
    "    Person = Person.filter((F.col('EmailPromotion')>=0) & (F.col('EmailPromotion') <=2))\n",
    "    person = Person.filter(F.col('PersonType').isin(['GC', 'SP', 'EM', 'IN', 'VC', 'SC']))\n",
    "\n",
    "    Person = Person.select(\n",
    "        F.col('BusinessEntityID').cast(IntegerType()).alias('BusinessEntityID'),\n",
    "        F.col('PersonType').cast(StringType()).alias('PersonType'),\n",
    "        F.col('NameStyle').cast(IntegerType()).alias('NameStyle'),\n",
    "        F.col('Title').cast(StringType()).alias('Title'),\n",
    "        F.col('FirstName').cast(StringType()).alias('FirstName'),\n",
    "        F.col('MiddleName').cast(StringType()).alias('MiddleName'),\n",
    "        F.col('LastName').cast(StringType()).alias('LastName'),\n",
    "        F.col('Suffix').cast(StringType()).alias('Suffix'),\n",
    "        F.col('EmailPromotion').cast(IntegerType()).alias('EmailPromotion'),\n",
    "        F.col('AdditionalContactInfo').cast(StringType()).alias('AdditionalContactInfo'),  # XML handled as StringType\n",
    "        F.col('Demographics').cast(StringType()).alias('Demographics'),                    # XML handled as StringType\n",
    "        F.col('rowguid').cast(StringType()).alias('rowguid'),\n",
    "        F.col('ModifiedDate').cast(TimestampType()).alias('ModifiedDate')\n",
    "    )\n",
    "\n",
    "    return Person\n",
    "\n"
   ]
  },
  {
   "cell_type": "code",
   "execution_count": 0,
   "metadata": {
    "application/vnd.databricks.v1+cell": {
     "cellMetadata": {
      "byteLimit": 2048000,
      "rowLimit": 10000
     },
     "inputWidgets": {},
     "nuid": "5daf6fac-331e-4b60-aa5e-9084361a43d2",
     "showTitle": false,
     "tableResultSettingsMap": {},
     "title": ""
    }
   },
   "outputs": [],
   "source": [
    "person = spark.read.table('hive_metastore.adventure_works_bronze.person_person')"
   ]
  },
  {
   "cell_type": "code",
   "execution_count": 0,
   "metadata": {
    "application/vnd.databricks.v1+cell": {
     "cellMetadata": {
      "byteLimit": 2048000,
      "rowLimit": 10000
     },
     "inputWidgets": {},
     "nuid": "54983c6f-0f96-40c2-bc03-50e7f4956c7c",
     "showTitle": false,
     "tableResultSettingsMap": {},
     "title": ""
    }
   },
   "outputs": [],
   "source": [
    "    person = person.withColumn(\n",
    "        'rowguid',\n",
    "        F.when(F.col('rowguid').isNull(), F.expr('uuid()')).otherwise(F.col('rowguid'))\n",
    "    )\n",
    "    person = person.withColumn(\n",
    "        'ModifiedDate',\n",
    "        F.when(F.col('ModifiedDate').isNull(), current_timestemp()).otherwise(F.col('ModifiedDate'))\n",
    "    )\n",
    "\n",
    "    window_spec = windonw.partitionrBy('person_person','BusinessEntityID').orderBy(F.col('ModifiedDate').desc())\n",
    "    Person = Person.withColumn('row_number', F.row_number().over(window_spec))\n",
    "    Person = Person.filter(F.col('row_number') == 1).drop(F.col('row_number'))\n",
    "\n",
    "    Person = Person.filter((F.col('EmailPromotion')>=0) & (F.col('EmailPromotion') <=2))\n",
    "    person = Person.filter(F.col('PersonType').isin(['GC', 'SP', 'EM', 'IN', 'VC', 'SC']))\n",
    "\n",
    "    Person = Person.select(\n",
    "        F.col('BusinessEntityID').cast(IntegerType()).alias('BusinessEntityID'),\n",
    "        F.col('PersonType').cast(StringType()).alias('PersonType'),\n",
    "        F.col('NameStyle').cast(IntegerType()).alias('NameStyle'),\n",
    "        F.col('Title').cast(StringType()).alias('Title'),\n",
    "        F.col('FirstName').cast(StringType()).alias('FirstName'),\n",
    "        F.col('MiddleName').cast(StringType()).alias('MiddleName'),\n",
    "        F.col('LastName').cast(StringType()).alias('LastName'),\n",
    "        F.col('Suffix').cast(StringType()).alias('Suffix'),\n",
    "        F.col('EmailPromotion').cast(IntegerType()).alias('EmailPromotion'),\n",
    "        F.col('AdditionalContactInfo').cast(StringType()).alias('AdditionalContactInfo'),  # XML handled as StringType\n",
    "        F.col('Demographics').cast(StringType()).alias('Demographics'),                    # XML handled as StringType\n",
    "        F.col('rowguid').cast(StringType()).alias('rowguid'),\n",
    "        F.col('ModifiedDate').cast(TimestampType()).alias('ModifiedDate')\n",
    "    )\n",
    "\n",
    "    return Person\n",
    "\n"
   ]
  },
  {
   "cell_type": "code",
   "execution_count": 0,
   "metadata": {
    "application/vnd.databricks.v1+cell": {
     "cellMetadata": {},
     "inputWidgets": {},
     "nuid": "813f0150-695f-4473-b831-dc84e677477a",
     "showTitle": false,
     "tableResultSettingsMap": {},
     "title": ""
    }
   },
   "outputs": [],
   "source": [
    "person = person.withColumn(\n",
    "    'ModifiedDate',\n",
    "    F.when(F.col('ModifiedDate').isNull(), current_timestemp()).otherwise(F.col('ModifiedDate'))\n",
    ")"
   ]
  },
  {
   "cell_type": "code",
   "execution_count": 0,
   "metadata": {
    "application/vnd.databricks.v1+cell": {
     "cellMetadata": {},
     "inputWidgets": {},
     "nuid": "0b53c230-7f2f-4f69-9b47-7edf40933564",
     "showTitle": false,
     "tableResultSettingsMap": {},
     "title": ""
    }
   },
   "outputs": [],
   "source": [
    "window_spec = windonw.partitionrBy('person_person','BusinessEntityID').orderBy(F.col('ModifiedDate').desc())\n",
    "Person = Person.withColumn('row_number', F.row_number().over(window_spec))\n",
    "Person = Person.filter(F.col('row_number') == 1).drop(F.col('row_number'))"
   ]
  },
  {
   "cell_type": "code",
   "execution_count": 0,
   "metadata": {
    "application/vnd.databricks.v1+cell": {
     "cellMetadata": {},
     "inputWidgets": {},
     "nuid": "a12c9e56-851d-453b-8f31-17c4672e0ce6",
     "showTitle": false,
     "tableResultSettingsMap": {},
     "title": ""
    }
   },
   "outputs": [],
   "source": [
    "Person = Person.filter((F.col('EmailPromotion')>=0) & (F.col('EmailPromotion') <=2))\n",
    "person = Person.filter(F.col('PersonType').isin(['GC', 'SP', 'EM', 'IN', 'VC', 'SC']))"
   ]
  },
  {
   "cell_type": "code",
   "execution_count": 0,
   "metadata": {
    "application/vnd.databricks.v1+cell": {
     "cellMetadata": {
      "byteLimit": 2048000,
      "rowLimit": 10000
     },
     "inputWidgets": {},
     "nuid": "d6ee6153-7bd5-47ba-bf39-d4dceeaeeb3b",
     "showTitle": false,
     "tableResultSettingsMap": {},
     "title": ""
    }
   },
   "outputs": [],
   "source": [
    "expected_schema = StructType([\n",
    "    StructField(\"EmailAddressID\", IntegerType(), False),\n",
    "    StructField(\"EmailAddress\", StringType(), False),\n",
    "    StructField(\"rowguid\", StringType(), False),\n",
    "    StructField(\"ModifiedDate\", TimestampType(), False),\n",
    "    StructField(\"BusinessEntityID\", IntegerType(), False)\n",
    "                             \n",
    "])"
   ]
  },
  {
   "cell_type": "code",
   "execution_count": 0,
   "metadata": {
    "application/vnd.databricks.v1+cell": {
     "cellMetadata": {
      "byteLimit": 2048000,
      "rowLimit": 10000
     },
     "inputWidgets": {},
     "nuid": "5feef8d7-cd16-49ad-902f-12ebac4c0a4d",
     "showTitle": false,
     "tableResultSettingsMap": {},
     "title": ""
    }
   },
   "outputs": [],
   "source": [
    "# Estrutura do log para registrar informações sobre o processo\n",
    "log_data = {\n",
    "    \"log_tabela\": source_table,\n",
    "    \"log_camada\": \"Silver\",\n",
    "    \"log_origem\": \"adventure_works_bronze\",\n",
    "    \"log_destino\": \"adventure_works_silver\",\n",
    "}\n",
    "\n",
    "# Registra o início do processo\n",
    "addlog(**log_data, log_status='Início', atualizacao=0)\n",
    "\n",
    "try:\n",
    "    # Realiza a transformação dos dados\n",
    "    transformed_df = transform_Person_CountryRegion(Person=bronze_source_table)\n",
    "\n",
    "    # Verifica rapidamente o número de linhas e o schema do DataFrame\n",
    "    row_count = transformed_df.count()\n",
    "    transformed_df.printSchema()\n",
    "\n",
    "    # Validação do schema\n",
    "    is_schema_valid = _validate_schema(transformed_df, expected_schema)\n",
    "    if is_schema_valid:\n",
    "        addlog(**log_data, log_status='Sucesso', atualizacao=1)\n",
    "        print(\"O schema do DataFrame está correto.\")\n",
    "    else:\n",
    "        raise ValueError(\"Schema validation failed.\")\n",
    "    \n",
    "except Exception as e:\n",
    "    # Registra erro caso ocorra uma exceção\n",
    "    addlog(**log_data, log_status='Falha', atualizacao=1)\n",
    "    print(f\"Erro ao processar a tabela: {str(e)}\")\n",
    "    raise  \n",
    "\n",
    "# Se o schema for válido, realiza o upsert\n",
    "_upsert_silver_table(transformed_df, target_table, primary_keys, not_matched_by_source_action=\"DELETE\")\n"
   ]
  }
 ],
 "metadata": {
  "application/vnd.databricks.v1+notebook": {
   "computePreferences": null,
   "dashboards": [],
   "environmentMetadata": {
    "base_environment": "",
    "environment_version": "2"
   },
   "inputWidgetPreferences": null,
   "language": "python",
   "notebookMetadata": {
    "mostRecentlyExecutedCommandWithImplicitDF": {
     "commandId": 3442117447393690,
     "dataframes": [
      "_sqldf"
     ]
    },
    "pythonIndentUnit": 4
   },
   "notebookName": "person_person",
   "widgets": {}
  },
  "language_info": {
   "name": "python"
  }
 },
 "nbformat": 4,
 "nbformat_minor": 0
}
