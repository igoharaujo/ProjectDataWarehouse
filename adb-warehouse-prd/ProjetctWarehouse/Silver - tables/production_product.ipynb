{
 "cells": [
  {
   "cell_type": "markdown",
   "metadata": {
    "application/vnd.databricks.v1+cell": {
     "cellMetadata": {
      "byteLimit": 2048000,
      "rowLimit": 10000
     },
     "inputWidgets": {},
     "nuid": "40d71ad5-4505-417c-b8a8-365bf1404227",
     "showTitle": false,
     "tableResultSettingsMap": {},
     "title": ""
    }
   },
   "source": [
    "## Transformação camada prata: product"
   ]
  },
  {
   "cell_type": "code",
   "execution_count": 0,
   "metadata": {
    "application/vnd.databricks.v1+cell": {
     "cellMetadata": {
      "byteLimit": 2048000,
      "rowLimit": 10000
     },
     "collapsed": true,
     "inputWidgets": {},
     "nuid": "2fafa59f-78b0-4c02-a09b-5549ff43f2cc",
     "showTitle": true,
     "tableResultSettingsMap": {},
     "title": "Functions"
    }
   },
   "outputs": [],
   "source": [
    "%run ../Config/DeltaFunctions"
   ]
  },
  {
   "cell_type": "code",
   "execution_count": 0,
   "metadata": {
    "application/vnd.databricks.v1+cell": {
     "cellMetadata": {
      "byteLimit": 2048000,
      "rowLimit": 10000
     },
     "collapsed": true,
     "inputWidgets": {},
     "nuid": "71af81a2-1c18-4d67-88d0-5187c6ad0dd6",
     "showTitle": true,
     "tableResultSettingsMap": {},
     "title": "Log"
    }
   },
   "outputs": [],
   "source": [
    "%run ../Config/LogProcessamento"
   ]
  },
  {
   "cell_type": "code",
   "execution_count": 0,
   "metadata": {
    "application/vnd.databricks.v1+cell": {
     "cellMetadata": {
      "byteLimit": 2048000,
      "rowLimit": 10000
     },
     "inputWidgets": {},
     "nuid": "63744a8c-5af8-4b5a-8a1f-c91c5d870e31",
     "showTitle": true,
     "tableResultSettingsMap": {},
     "title": "Bibliotecas"
    }
   },
   "outputs": [],
   "source": [
    "from pyspark.sql import DataFrame, Window\n",
    "from pyspark.sql import functions as F\n",
    "from pyspark.sql.types import (\n",
    "    IntegerType, StringType, TimestampType, StructType, StructField, BooleanType\n",
    ")"
   ]
  },
  {
   "cell_type": "code",
   "execution_count": 0,
   "metadata": {
    "application/vnd.databricks.v1+cell": {
     "cellMetadata": {
      "byteLimit": 2048000,
      "rowLimit": 10000
     },
     "inputWidgets": {},
     "nuid": "1229144b-6195-47a2-af81-6900295a4610",
     "showTitle": true,
     "tableResultSettingsMap": {},
     "title": "Origem/Destino"
    }
   },
   "outputs": [],
   "source": [
    "# Habilitar a evolução automática de esquemas\n",
    "spark.sql(\"SET spark.databricks.delta.schema.autoMerge.enabled = true\")\n",
    "spark.sql('USE CATALOG hive_metastore')\n",
    "\n",
    "# Informações da Tabela Fonte\n",
    "source_table = \"production_product\"\n",
    "source_database = \"adventure_works_bronze\"\n",
    "bronze_source_table = spark.read.table(f\"{source_database}.{source_table}\")\n",
    "\n",
    "# Informações da Tabela Destino (target)\n",
    "target_table_name = \"production_product\"\n",
    "target_database = \"adventure_works_silver\"\n",
    "target_table = f\"{target_database}.{target_table_name}\"\n",
    "\n",
    "primary_keys = [\"ProductID\"]"
   ]
  },
  {
   "cell_type": "code",
   "execution_count": 0,
   "metadata": {
    "application/vnd.databricks.v1+cell": {
     "cellMetadata": {
      "byteLimit": 2048000,
      "rowLimit": 10000
     },
     "inputWidgets": {},
     "nuid": "535c59ea-d956-4d42-8598-2f1d7cb29ee5",
     "showTitle": true,
     "tableResultSettingsMap": {},
     "title": "Schema"
    }
   },
   "outputs": [],
   "source": [
    "expected_schema = StructType([\n",
    "    StructField(\"ProductID\", IntegerType(), False),                  # int IDENTITY(1,1) NOT NULL\n",
    "    StructField(\"Name\", StringType(), False),                        # Name NOT NULL\n",
    "    StructField(\"ProductNumber\", StringType(), False),               # nvarchar(25) NOT NULL\n",
    "    StructField(\"MakeFlag\", BooleanType(), False),                   # Flag NOT NULL\n",
    "    StructField(\"FinishedGoodsFlag\", BooleanType(), False),          # Flag NOT NULL\n",
    "    StructField(\"Color\", StringType(), True),                        # nvarchar(15) NULL\n",
    "    StructField(\"SafetyStockLevel\", ShortType(), False),             # smallint NOT NULL\n",
    "    StructField(\"ReorderPoint\", ShortType(), False),                 # smallint NOT NULL\n",
    "    StructField(\"StandardCost\", DecimalType(19, 4), False),          # money NOT NULL\n",
    "    StructField(\"ListPrice\", DecimalType(19, 4), False),             # money NOT NULL\n",
    "    StructField(\"Size\", StringType(), True),                         # nvarchar(5) NULL\n",
    "    StructField(\"SizeUnitMeasureCode\", StringType(), True),          # nchar(3) NULL\n",
    "    StructField(\"WeightUnitMeasureCode\", StringType(), True),        # nchar(3) NULL\n",
    "    StructField(\"Weight\", DecimalType(8, 2), True),                  # decimal(8, 2) NULL\n",
    "    StructField(\"DaysToManufacture\", IntegerType(), False),          # int NOT NULL\n",
    "    StructField(\"ProductLine\", StringType(), True),                  # nchar(2) NULL\n",
    "    StructField(\"Class\", StringType(), True),                        # nchar(2) NULL\n",
    "    StructField(\"Style\", StringType(), True),                        # nchar(2) NULL\n",
    "    StructField(\"ProductSubcategoryID\", IntegerType(), True),        # int NULL\n",
    "    StructField(\"ProductModelID\", IntegerType(), True),              # int NULL\n",
    "    StructField(\"SellStartDate\", TimestampType(), False),            # datetime NOT NULL\n",
    "    StructField(\"SellEndDate\", TimestampType(), True),               # datetime NULL\n",
    "    StructField(\"DiscontinuedDate\", TimestampType(), True),          # datetime NULL\n",
    "    StructField(\"rowguid\", StringType(), False),                     # uniqueidentifier NOT NULL\n",
    "    StructField(\"ModifiedDate\", TimestampType(), False)              # datetime NOT NULL\n",
    "])\n"
   ]
  },
  {
   "cell_type": "code",
   "execution_count": 0,
   "metadata": {
    "application/vnd.databricks.v1+cell": {
     "cellMetadata": {
      "byteLimit": 2048000,
      "rowLimit": 10000
     },
     "inputWidgets": {},
     "nuid": "e1b79798-7026-4689-8891-aaa51a9553c8",
     "showTitle": true,
     "tableResultSettingsMap": {},
     "title": "Transformação"
    }
   },
   "outputs": [],
   "source": [
    "def transform_production_product(Product: DataFrame) -> DataFrame:\n",
    "    '''\n",
    "    Transformação da tabela: product\n",
    "    Parâmetros:\n",
    "        product (DataFrame): DataFrame contendo os dados da tabela product\n",
    "\n",
    "    Retorna:\n",
    "        DataFrame: O DataFrame resultante após a transformação e deduplicação.\n",
    "    '''\n",
    "    # Define valores padrão para campos que podem ser nulos\n",
    "    Product = Product.withColumn(\n",
    "        'rowguid',\n",
    "        F.when(F.col('rowguid').isNull(), F.expr('uuid()')).otherwise(F.col('rowguid'))\n",
    "    )\n",
    "    \n",
    "    Product = Product.withColumn(\n",
    "        'ModifiedDate',\n",
    "        F.when(F.col('ModifiedDate').isNull(), F.current_timestamp()).otherwise(F.col('ModifiedDate'))\n",
    "    )\n",
    "    \n",
    "    # # Aplicando checks de integridade\n",
    "    # Product = Product.filter(F.col('SafetyStockLevel') > 0)\n",
    "    # Product = Product.filter(F.col('ReorderPoint') > 0)\n",
    "    # Product = Product.filter(F.col('StandardCost') >= 0.00)\n",
    "    # Product = Product.filter(F.col('ListPrice') >= 0.00)\n",
    "    # Product = Product.filter(F.col('DaysToManufacture') >= 0)\n",
    "    # Product = Product.filter((F.upper(F.col('Class')).isin('H', 'M', 'L')) | F.col('Class').isNull())\n",
    "    # Product = Product.filter((F.upper(F.col('ProductLine')).isin('R', 'M', 'T', 'S')) | F.col('ProductLine').isNull())\n",
    "    # Product = Product.filter((F.upper(F.col('Style')).isin('U', 'M', 'W')) | F.col('Style').isNull())\n",
    "    # Product = Product.filter((F.col('Weight') > 0.00) | F.col('Weight').isNull())\n",
    "    # Product = Product.filter((F.col('SellEndDate') >= F.col('SellStartDate')) | F.col('SellEndDate').isNull())\n",
    "    \n",
    "    # Define a função de janela para deduplicar com base nas chaves primárias\n",
    "    window_spec = Window.partitionBy('ProductID').orderBy(F.col('ModifiedDate').desc())\n",
    "    Product = Product.withColumn('row_num', F.row_number().over(window_spec))\n",
    "\n",
    "    # Filtra para manter apenas a primeira linha em cada partição (sem duplicatas)\n",
    "    Product = Product.filter(F.col('row_num') == 1).drop('row_num')\n",
    "\n",
    "    # Seleção final com CAST explícito dos tipos de dados\n",
    "    Product = Product.select(\n",
    "        F.col('ProductID').cast(IntegerType()).alias('ProductID'),\n",
    "        F.col('Name').cast(StringType()).alias('Name'),\n",
    "        F.col('ProductNumber').cast(StringType()).alias('ProductNumber'),\n",
    "        F.col('MakeFlag').cast(BooleanType()).alias('MakeFlag'),\n",
    "        F.col('FinishedGoodsFlag').cast(BooleanType()).alias('FinishedGoodsFlag'),\n",
    "        F.col('Color').cast(StringType()).alias('Color'),\n",
    "        F.col('SafetyStockLevel').cast(ShortType()).alias('SafetyStockLevel'),\n",
    "        F.col('ReorderPoint').cast(ShortType()).alias('ReorderPoint'),\n",
    "        F.col('StandardCost').cast(DecimalType(19, 4)).alias('StandardCost'),\n",
    "        F.col('ListPrice').cast(DecimalType(19, 4)).alias('ListPrice'),\n",
    "        F.col('Size').cast(StringType()).alias('Size'),\n",
    "        F.col('SizeUnitMeasureCode').cast(StringType()).alias('SizeUnitMeasureCode'),\n",
    "        F.col('WeightUnitMeasureCode').cast(StringType()).alias('WeightUnitMeasureCode'),\n",
    "        F.col('Weight').cast(DecimalType(8, 2)).alias('Weight'),\n",
    "        F.col('DaysToManufacture').cast(IntegerType()).alias('DaysToManufacture'),\n",
    "        F.col('ProductLine').cast(StringType()).alias('ProductLine'),\n",
    "        F.col('Class').cast(StringType()).alias('Class'),\n",
    "        F.col('Style').cast(StringType()).alias('Style'),\n",
    "        F.col('ProductSubcategoryID').cast(IntegerType()).alias('ProductSubcategoryID'),\n",
    "        F.col('ProductModelID').cast(IntegerType()).alias('ProductModelID'),\n",
    "        F.col('SellStartDate').cast(TimestampType()).alias('SellStartDate'),\n",
    "        F.col('SellEndDate').cast(TimestampType()).alias('SellEndDate'),\n",
    "        F.col('DiscontinuedDate').cast(TimestampType()).alias('DiscontinuedDate'),\n",
    "        F.col('rowguid').cast(StringType()).alias('rowguid'),\n",
    "        F.col('ModifiedDate').cast(TimestampType()).alias('ModifiedDate')\n",
    "    )\n",
    "\n",
    "    return Product\n"
   ]
  },
  {
   "cell_type": "markdown",
   "metadata": {
    "application/vnd.databricks.v1+cell": {
     "cellMetadata": {
      "byteLimit": 2048000,
      "rowLimit": 10000
     },
     "inputWidgets": {},
     "nuid": "62e93420-f196-4efb-9681-bc4b11c375bd",
     "showTitle": false,
     "tableResultSettingsMap": {},
     "title": ""
    }
   },
   "source": [
    "## Aplicar Transformação"
   ]
  },
  {
   "cell_type": "code",
   "execution_count": 0,
   "metadata": {
    "application/vnd.databricks.v1+cell": {
     "cellMetadata": {
      "byteLimit": 2048000,
      "rowLimit": 10000
     },
     "inputWidgets": {},
     "nuid": "6200aca7-10fb-424e-b70d-b0a5f368cb49",
     "showTitle": false,
     "tableResultSettingsMap": {},
     "title": ""
    }
   },
   "outputs": [],
   "source": [
    "# Estrutura do log para registrar informações sobre o processo\n",
    "log_data = {\n",
    "    \"log_tabela\": source_table,\n",
    "    \"log_camada\": \"Silver\",\n",
    "    \"log_origem\": \"adventure_works_bronze\",\n",
    "    \"log_destino\": \"adventure_works_silver\",\n",
    "}\n",
    "\n",
    "# Registra o início do processo\n",
    "addlog(**log_data, log_status='Início', atualizacao=0)\n",
    "\n",
    "try:\n",
    "    # Realiza a transformação dos dados\n",
    "    transformed_df = transform_production_product(Product=bronze_source_table)\n",
    "\n",
    "    # Verifica rapidamente o número de linhas e o schema do DataFrame\n",
    "    row_count = transformed_df.count()\n",
    "    transformed_df.printSchema()\n",
    "\n",
    "    # Validação do schema\n",
    "    is_schema_valid = _validate_schema(transformed_df, expected_schema)\n",
    "    if is_schema_valid:\n",
    "        addlog(**log_data, log_status='Sucesso', atualizacao=1)\n",
    "        print(\"O schema do DataFrame está correto.\")\n",
    "    else:\n",
    "        raise ValueError(\"Schema validation failed.\")\n",
    "    \n",
    "except Exception as e:\n",
    "    # Registra erro caso ocorra uma exceção\n",
    "    addlog(**log_data, log_status='Falha', atualizacao=1)\n",
    "    print(f\"Erro ao processar a tabela: {str(e)}\")\n",
    "    raise  \n",
    "\n",
    "# Se o schema for válido, realiza o upsert\n",
    "_upsert_silver_table(transformed_df, target_table, primary_keys, not_matched_by_source_action=\"DELETE\")\n"
   ]
  }
 ],
 "metadata": {
  "application/vnd.databricks.v1+notebook": {
   "computePreferences": null,
   "dashboards": [],
   "environmentMetadata": {
    "base_environment": "",
    "environment_version": "2"
   },
   "inputWidgetPreferences": null,
   "language": "python",
   "notebookMetadata": {
    "mostRecentlyExecutedCommandWithImplicitDF": {
     "commandId": 1818458200642571,
     "dataframes": [
      "_sqldf"
     ]
    },
    "pythonIndentUnit": 4
   },
   "notebookName": "production_product",
   "widgets": {}
  },
  "language_info": {
   "name": "python"
  }
 },
 "nbformat": 4,
 "nbformat_minor": 0
}
