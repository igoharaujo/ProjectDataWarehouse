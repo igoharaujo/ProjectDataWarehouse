{
 "cells": [
  {
   "cell_type": "code",
   "execution_count": 0,
   "metadata": {
    "application/vnd.databricks.v1+cell": {
     "cellMetadata": {
      "byteLimit": 2048000,
      "rowLimit": 10000
     },
     "inputWidgets": {},
     "nuid": "a362acde-32a5-49ff-91d7-75ea47f68c6f",
     "showTitle": true,
     "tableResultSettingsMap": {},
     "title": "Parametros"
    }
   },
   "outputs": [],
   "source": [
    "parameters = [\n",
    "    {   \"name\":f\"{table}\",\n",
    "        \"read_path\": f\"/mnt/adlsstorageworksprd/landing-zone/AdventureWorks/{table.split('_')[0]}/{table}.parquet\",\n",
    "        \"table_name\": table,\n",
    "        \"database_name\": \"adventure_works_bronze\"\n",
    "    }\n",
    "    for table in [\n",
    "        \"Person_AddressType\",\n",
    "        \"Person_BusinessEntity\",\n",
    "        \"Person_BusinessEntityAddress\",\n",
    "        \"Person_BusinessEntityContact\",\n",
    "        \"Person_ContactType\",\n",
    "        \"Person_CountryRegion\",\n",
    "        \"Person_EmailAddress\",\n",
    "        \"Person_Password\",\n",
    "        \"Person_Person\",\n",
    "        \"Person_PersonPhone\",\n",
    "        \"Person_PhoneNumberType\",\n",
    "        \"Person_StateProvince\",\n",
    "        \"Production_BillOfMaterials\",\n",
    "        \"Production_Culture\",\n",
    "        \"Production_Document\",\n",
    "        \"Production_Illustration\",\n",
    "        \"Production_Location\",\n",
    "        \"Production_Product\",\n",
    "        \"Production_ProductCategory\",\n",
    "        \"Production_ProductCostHistory\",\n",
    "        \"Production_ProductDescription\",\n",
    "        \"Production_ProductDocument\",\n",
    "        \"Production_ProductInventory\",\n",
    "        \"Production_ProductListPriceHistory\",\n",
    "        \"Production_ProductModel\",\n",
    "        \"Production_ProductModelIllustration\",\n",
    "        \"Production_ProductModelProductDescriptionCulture\",\n",
    "        \"Production_ProductPhoto\",\n",
    "        \"Production_ProductProductPhoto\",\n",
    "        \"Production_ProductReview\",\n",
    "        \"Production_ProductSubcategory\",\n",
    "        \"Production_ScrapReason\",\n",
    "        \"Production_TransactionHistory\",\n",
    "        \"Production_TransactionHistoryArchive\",\n",
    "        \"Production_UnitMeasure\",\n",
    "        \"Production_WorkOrder\",\n",
    "        \"Production_WorkOrderRouting\",\n",
    "        \"Purchasing_ProductVendor\",\n",
    "        \"Purchasing_PurchaseOrderDetail\",\n",
    "        \"Purchasing_PurchaseOrderHeader\",\n",
    "        \"Sales_Customer\",\n",
    "        \"Purchasing_ShipMethod\",\n",
    "        \"Purchasing_Vendor\",\n",
    "        \"Sales_CountryRegionCurrency\",\n",
    "        \"Sales_CreditCard\",\n",
    "        \"Sales_Currency\",\n",
    "        \"Sales_CurrencyRate\",\n",
    "        \"Sales_PersonCreditCard\",\n",
    "        \"Sales_SalesOrderDetail\",\n",
    "        \"Sales_SalesOrderHeader\",\n",
    "        \"Sales_SalesOrderHeaderSalesReason\",\n",
    "        \"Sales_SalesPerson\",\n",
    "        \"Sales_SalesPersonQuotaHistory\",\n",
    "        \"Sales_SalesReason\",\n",
    "        \"Sales_SalesTaxRate\",\n",
    "        \"Sales_SalesTerritory\",\n",
    "        \"Sales_SalesTerritoryHistory\",\n",
    "        \"dbo_DatabaseLog\",\n",
    "        \"Sales_ShoppingCartItem\",\n",
    "        \"dbo_ErrorLog\",\n",
    "        \"Sales_SpecialOffer\",\n",
    "        \"HumanResources_Department\",\n",
    "        \"Sales_SpecialOfferProduct\",\n",
    "        \"HumanResources_Employee\",\n",
    "        \"Sales_Store\",\n",
    "        \"HumanResources_EmployeeDepartmentHistory\",\n",
    "        \"HumanResources_EmployeePayHistory\",\n",
    "        \"HumanResources_JobCandidate\",\n",
    "        \"HumanResources_Shift\",\n",
    "        \"Person_Address\"\n",
    "    ]\n",
    "]\n"
   ]
  }
 ],
 "metadata": {
  "application/vnd.databricks.v1+notebook": {
   "computePreferences": null,
   "dashboards": [],
   "environmentMetadata": {
    "base_environment": "",
    "environment_version": "2"
   },
   "inputWidgetPreferences": null,
   "language": "python",
   "notebookMetadata": {
    "mostRecentlyExecutedCommandWithImplicitDF": {
     "commandId": 2621393701206610,
     "dataframes": [
      "_sqldf"
     ]
    },
    "pythonIndentUnit": 4
   },
   "notebookName": "Parameters",
   "widgets": {}
  },
  "language_info": {
   "name": "python"
  }
 },
 "nbformat": 4,
 "nbformat_minor": 0
}
