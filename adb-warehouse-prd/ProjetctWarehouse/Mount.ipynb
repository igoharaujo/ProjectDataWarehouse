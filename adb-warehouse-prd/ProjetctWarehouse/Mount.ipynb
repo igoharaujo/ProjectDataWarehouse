{
 "cells": [
  {
   "cell_type": "markdown",
   "metadata": {
    "application/vnd.databricks.v1+cell": {
     "cellMetadata": {},
     "inputWidgets": {},
     "nuid": "fc013ecf-d1a2-42d0-b706-8309431c7106",
     "showTitle": false,
     "tableResultSettingsMap": {},
     "title": ""
    }
   },
   "source": [
    "# **Montagem do Azure Data Lake Storage (ADLS) no Databricks**\n",
    "\n",
    "### **Descrição do Processo**  \n",
    "Este processo tem como objetivo montar containers do **Azure Data Lake Storage (ADLS)** no Databricks, permitindo a leitura e escrita de dados diretamente nos diretórios montados.\n",
    "\n",
    "---\n",
    "\n",
    "### **Origem do Processo**  \n",
    "A conexão é realizada utilizando autenticação **OAuth 2.0** via **Service Principal**. Os dados são montados a partir de um **container específico** do Data Lake.\n",
    "\n",
    "---\n",
    "\n",
    "### **Etapas do Processamento**\n",
    "\n",
    "\n",
    "1. **`CMD 2 - Configuração das Credenciais de Acesso`**  \n",
    "   As credenciais são obtidas de um **Azure Key Vault** por meio do `dbutils.secrets.get()`.  \n",
    "   Os seguintes valores são recuperados:  \n",
    "   - `clientID` → Identificação do Service Principal  \n",
    "   - `tenantID` → Identificação do Tenant (Diretório)  \n",
    "   - `clientSecret` → Chave secreta do Service Principal  \n",
    "\n",
    "2. **`CMD 3 - Configuração dos Parâmetros de Autenticação`**  \n",
    "   Criamos um dicionário contendo as configurações necessárias para autenticação no ADLS, utilizando **OAuth 2.0**.\n",
    "\n",
    "3. **`CMD 3 - Função para Montar Containers do ADLS`**  \n",
    "   Definição da função `mount_adls(container_name)`, que monta um container específico do ADLS no Databricks.  \n",
    "   A montagem é feita no diretório `/mnt/{storage_account_name}/{container_name}`.  \n",
    "\n",
    "---\n",
    "\n",
    "### **Destino do Processo**  \n",
    "Os containers do ADLS são montados dentro do Databricks no diretório `/mnt/{storage_account_name}/{container_name}`, permitindo acesso aos dados via **Spark** ou **DBFS**.\n",
    "\n",
    "---\n",
    "\n",
    "### **Observações Importantes**\n",
    "- A autenticação é baseada em um **Service Principal**, que deve ter permissões apropriadas no ADLS.  \n",
    "- A montagem **não é persistente** e pode ser perdida se o cluster for reiniciado. Se necessário, reexecute o script.  \n",
    "- Caso o container já esteja montado, pode ser necessário desmontá-lo com:  \n",
    "  ```pytho\n",
    "\n",
    "  dbutils.fs.unmount(f\"/mnt/{storage_account_name}/{container_name}\")\n",
    "\n",
    "  ```\n"
   ]
  },
  {
   "cell_type": "code",
   "execution_count": 0,
   "metadata": {
    "application/vnd.databricks.v1+cell": {
     "cellMetadata": {
      "byteLimit": 2048000,
      "rowLimit": 10000
     },
     "inputWidgets": {},
     "nuid": "4c4a0733-45ab-48b1-b424-89a914e00729",
     "showTitle": true,
     "tableResultSettingsMap": {},
     "title": "Credenciais"
    }
   },
   "outputs": [],
   "source": [
    "storage_account_name = \"adlsstorageworksprd\"\n",
    "\n",
    "client_id       = dbutils.secrets.get('ProjetoWarehouse', 'clientID')\n",
    "tenant_id       = dbutils.secrets.get('ProjetoWarehouse', 'tenantID')\n",
    "client_secret   = dbutils.secrets.get('ProjetoWarehouse', 'clientSecret')"
   ]
  },
  {
   "cell_type": "code",
   "execution_count": 0,
   "metadata": {
    "application/vnd.databricks.v1+cell": {
     "cellMetadata": {
      "byteLimit": 2048000,
      "rowLimit": 10000
     },
     "inputWidgets": {},
     "nuid": "8feb0d91-656e-4460-85cc-87e013e91656",
     "showTitle": true,
     "tableResultSettingsMap": {},
     "title": "Função Mount"
    }
   },
   "outputs": [],
   "source": [
    "configs = {\n",
    "    \"fs.azure.account.auth.type\": \"OAuth\",\n",
    "    \"fs.azure.account.oauth.provider.type\": \"org.apache.hadoop.fs.azurebfs.oauth2.ClientCredsTokenProvider\",\n",
    "    \"fs.azure.account.oauth2.client.id\": client_id,\n",
    "    \"fs.azure.account.oauth2.client.secret\": client_secret,\n",
    "    \"fs.azure.account.oauth2.client.endpoint\": f\"https://login.microsoftonline.com/{tenant_id}/oauth2/token\"\n",
    "}\n",
    "\n",
    "def mount_adls(container_name):\n",
    "    dbutils.fs.mount(\n",
    "        source=f\"abfss://{container_name}@{storage_account_name}.dfs.core.windows.net/\",\n",
    "        mount_point=f\"/mnt/{storage_account_name}/{container_name}\",\n",
    "        extra_configs=configs\n",
    "    )\n"
   ]
  },
  {
   "cell_type": "code",
   "execution_count": 0,
   "metadata": {
    "application/vnd.databricks.v1+cell": {
     "cellMetadata": {
      "byteLimit": 2048000,
      "rowLimit": 10000
     },
     "inputWidgets": {},
     "nuid": "ebc28b66-9dcb-4445-941d-55ab8db0040a",
     "showTitle": true,
     "tableResultSettingsMap": {},
     "title": "teste"
    }
   },
   "outputs": [],
   "source": [
    "display(dbutils.fs.mounts())"
   ]
  }
 ],
 "metadata": {
  "application/vnd.databricks.v1+notebook": {
   "computePreferences": null,
   "dashboards": [],
   "environmentMetadata": {
    "base_environment": "",
    "environment_version": "2"
   },
   "language": "python",
   "notebookMetadata": {
    "mostRecentlyExecutedCommandWithImplicitDF": {
     "commandId": 2621393701206610,
     "dataframes": [
      "_sqldf"
     ]
    },
    "pythonIndentUnit": 4
   },
   "notebookName": "Mount",
   "widgets": {}
  },
  "language_info": {
   "name": "python"
  }
 },
 "nbformat": 4,
 "nbformat_minor": 0
}
